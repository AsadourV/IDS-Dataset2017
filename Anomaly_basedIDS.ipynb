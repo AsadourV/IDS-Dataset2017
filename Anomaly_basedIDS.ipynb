{
 "cells": [
  {
   "cell_type": "markdown",
   "metadata": {
    "hide_input": true
   },
   "source": [
    "<span style=\"font-size:3em; text-align:center\">Anomaly-based Intrusion Detection System - </span>\n",
    "\n",
    "<span style=\"font-size:3em; text-align:center\">CIC-IDS2017 Dataset</span>"
   ]
  },
  {
   "cell_type": "code",
   "execution_count": 1,
   "metadata": {},
   "outputs": [],
   "source": [
    "import pandas as pd\n",
    "import glob\n",
    "import numpy as np\n",
    "from sklearn.utils import shuffle\n",
    "from sklearn.preprocessing import LabelEncoder"
   ]
  },
  {
   "cell_type": "code",
   "execution_count": 2,
   "metadata": {},
   "outputs": [],
   "source": [
    "# Saving all .csv files in folder to list.\n",
    "path = \"dataset_list/MachineLearningCVE/\"\n",
    "files = [file for file in glob.glob(path + \"**/*.csv\", recursive=True)]"
   ]
  },
  {
   "cell_type": "code",
   "execution_count": 3,
   "metadata": {
    "hide_input": false,
    "scrolled": false
   },
   "outputs": [
    {
     "name": "stdout",
     "output_type": "stream",
     "text": [
      "dataset_list/MachineLearningCVE\\Friday-WorkingHours-Afternoon-DDos.pcap_ISCX.csv\n",
      "dataset_list/MachineLearningCVE\\Friday-WorkingHours-Afternoon-PortScan.pcap_ISCX.csv\n",
      "dataset_list/MachineLearningCVE\\Friday-WorkingHours-Morning.pcap_ISCX.csv\n",
      "dataset_list/MachineLearningCVE\\Monday-WorkingHours.pcap_ISCX.csv\n",
      "dataset_list/MachineLearningCVE\\Thursday-WorkingHours-Afternoon-Infilteration.pcap_ISCX.csv\n",
      "dataset_list/MachineLearningCVE\\Thursday-WorkingHours-Morning-WebAttacks.pcap_ISCX.csv\n",
      "dataset_list/MachineLearningCVE\\Tuesday-WorkingHours.pcap_ISCX.csv\n",
      "dataset_list/MachineLearningCVE\\Wednesday-workingHours.pcap_ISCX.csv\n"
     ]
    },
    {
     "data": {
      "text/plain": [
       "[None, None, None, None, None, None, None, None]"
      ]
     },
     "execution_count": 3,
     "metadata": {},
     "output_type": "execute_result"
    }
   ],
   "source": [
    "[print(f) for f in files]"
   ]
  },
  {
   "cell_type": "code",
   "execution_count": 4,
   "metadata": {
    "scrolled": false
   },
   "outputs": [],
   "source": [
    "# Reading all the csv files into dataframes and putting those DFs to list.\n",
    "\n",
    "dataset = [pd.read_csv(f) for f in files]"
   ]
  },
  {
   "cell_type": "code",
   "execution_count": 5,
   "metadata": {
    "scrolled": true
   },
   "outputs": [
    {
     "name": "stdout",
     "output_type": "stream",
     "text": [
      "(225745, 79)\n",
      "(286467, 79)\n",
      "(191033, 79)\n",
      "(529918, 79)\n",
      "(288602, 79)\n",
      "(170366, 79)\n",
      "(445909, 79)\n",
      "(692703, 79)\n"
     ]
    }
   ],
   "source": [
    "# Here we can see the number of rows and columns for each table.\n",
    "\n",
    "for d in dataset:\n",
    "    print(d.shape)"
   ]
  },
  {
   "cell_type": "markdown",
   "metadata": {},
   "source": [
    "# We already established that all tables have the same number of columns, but are they the same columns? Let's check this out!"
   ]
  },
  {
   "cell_type": "code",
   "execution_count": 6,
   "metadata": {},
   "outputs": [
    {
     "data": {
      "text/plain": [
       "array([ True,  True,  True,  True,  True,  True,  True,  True,  True,\n",
       "        True,  True,  True,  True,  True,  True,  True,  True,  True,\n",
       "        True,  True,  True,  True,  True,  True,  True,  True,  True,\n",
       "        True,  True,  True,  True,  True,  True,  True,  True,  True,\n",
       "        True,  True,  True,  True,  True,  True,  True,  True,  True,\n",
       "        True,  True,  True,  True,  True,  True,  True,  True,  True,\n",
       "        True,  True,  True,  True,  True,  True,  True,  True,  True,\n",
       "        True,  True,  True,  True,  True,  True,  True,  True,  True,\n",
       "        True,  True,  True,  True,  True,  True,  True])"
      ]
     },
     "execution_count": 6,
     "metadata": {},
     "output_type": "execute_result"
    }
   ],
   "source": [
    "for i in range(0,len(dataset)):\n",
    "    if i != len(dataset)-1:\n",
    "        same_columns = dataset[i].columns == dataset[i+1].columns\n",
    "        \n",
    "        if False in same_columns:\n",
    "            print(i)\n",
    "            break\n",
    "\n",
    "same_columns"
   ]
  },
  {
   "cell_type": "markdown",
   "metadata": {},
   "source": [
    "# Concatenation of csv dataset files"
   ]
  },
  {
   "cell_type": "code",
   "execution_count": 7,
   "metadata": {},
   "outputs": [],
   "source": [
    "# Combining all tables into one dataset.\n",
    "\n",
    "dataset = pd.concat([d for d in dataset]).drop_duplicates(keep=False)\n",
    "dataset.reset_index(drop=True, inplace = True)\n",
    "col_names = [col.replace(' ', '') for col in dataset.columns]\n",
    "dataset.columns = col_names"
   ]
  },
  {
   "cell_type": "code",
   "execution_count": 8,
   "metadata": {
    "scrolled": true
   },
   "outputs": [
    {
     "data": {
      "text/plain": [
       "(2427193, 79)"
      ]
     },
     "execution_count": 8,
     "metadata": {},
     "output_type": "execute_result"
    }
   ],
   "source": [
    "# By checking the shape of dataset we can confirm that concatenation has been successfully implemented.\n",
    "\n",
    "dataset.shape"
   ]
  },
  {
   "cell_type": "markdown",
   "metadata": {
    "heading_collapsed": true
   },
   "source": [
    "# Data analysis"
   ]
  },
  {
   "cell_type": "code",
   "execution_count": 9,
   "metadata": {
    "hidden": true
   },
   "outputs": [
    {
     "name": "stdout",
     "output_type": "stream",
     "text": [
      "<class 'pandas.core.frame.DataFrame'>\n",
      "RangeIndex: 2427193 entries, 0 to 2427192\n",
      "Data columns (total 79 columns):\n",
      " #   Column                   Dtype  \n",
      "---  ------                   -----  \n",
      " 0   DestinationPort          int64  \n",
      " 1   FlowDuration             int64  \n",
      " 2   TotalFwdPackets          int64  \n",
      " 3   TotalBackwardPackets     int64  \n",
      " 4   TotalLengthofFwdPackets  int64  \n",
      " 5   TotalLengthofBwdPackets  int64  \n",
      " 6   FwdPacketLengthMax       int64  \n",
      " 7   FwdPacketLengthMin       int64  \n",
      " 8   FwdPacketLengthMean      float64\n",
      " 9   FwdPacketLengthStd       float64\n",
      " 10  BwdPacketLengthMax       int64  \n",
      " 11  BwdPacketLengthMin       int64  \n",
      " 12  BwdPacketLengthMean      float64\n",
      " 13  BwdPacketLengthStd       float64\n",
      " 14  FlowBytes/s              float64\n",
      " 15  FlowPackets/s            float64\n",
      " 16  FlowIATMean              float64\n",
      " 17  FlowIATStd               float64\n",
      " 18  FlowIATMax               int64  \n",
      " 19  FlowIATMin               int64  \n",
      " 20  FwdIATTotal              int64  \n",
      " 21  FwdIATMean               float64\n",
      " 22  FwdIATStd                float64\n",
      " 23  FwdIATMax                int64  \n",
      " 24  FwdIATMin                int64  \n",
      " 25  BwdIATTotal              int64  \n",
      " 26  BwdIATMean               float64\n",
      " 27  BwdIATStd                float64\n",
      " 28  BwdIATMax                int64  \n",
      " 29  BwdIATMin                int64  \n",
      " 30  FwdPSHFlags              int64  \n",
      " 31  BwdPSHFlags              int64  \n",
      " 32  FwdURGFlags              int64  \n",
      " 33  BwdURGFlags              int64  \n",
      " 34  FwdHeaderLength          int64  \n",
      " 35  BwdHeaderLength          int64  \n",
      " 36  FwdPackets/s             float64\n",
      " 37  BwdPackets/s             float64\n",
      " 38  MinPacketLength          int64  \n",
      " 39  MaxPacketLength          int64  \n",
      " 40  PacketLengthMean         float64\n",
      " 41  PacketLengthStd          float64\n",
      " 42  PacketLengthVariance     float64\n",
      " 43  FINFlagCount             int64  \n",
      " 44  SYNFlagCount             int64  \n",
      " 45  RSTFlagCount             int64  \n",
      " 46  PSHFlagCount             int64  \n",
      " 47  ACKFlagCount             int64  \n",
      " 48  URGFlagCount             int64  \n",
      " 49  CWEFlagCount             int64  \n",
      " 50  ECEFlagCount             int64  \n",
      " 51  Down/UpRatio             int64  \n",
      " 52  AveragePacketSize        float64\n",
      " 53  AvgFwdSegmentSize        float64\n",
      " 54  AvgBwdSegmentSize        float64\n",
      " 55  FwdHeaderLength.1        int64  \n",
      " 56  FwdAvgBytes/Bulk         int64  \n",
      " 57  FwdAvgPackets/Bulk       int64  \n",
      " 58  FwdAvgBulkRate           int64  \n",
      " 59  BwdAvgBytes/Bulk         int64  \n",
      " 60  BwdAvgPackets/Bulk       int64  \n",
      " 61  BwdAvgBulkRate           int64  \n",
      " 62  SubflowFwdPackets        int64  \n",
      " 63  SubflowFwdBytes          int64  \n",
      " 64  SubflowBwdPackets        int64  \n",
      " 65  SubflowBwdBytes          int64  \n",
      " 66  Init_Win_bytes_forward   int64  \n",
      " 67  Init_Win_bytes_backward  int64  \n",
      " 68  act_data_pkt_fwd         int64  \n",
      " 69  min_seg_size_forward     int64  \n",
      " 70  ActiveMean               float64\n",
      " 71  ActiveStd                float64\n",
      " 72  ActiveMax                int64  \n",
      " 73  ActiveMin                int64  \n",
      " 74  IdleMean                 float64\n",
      " 75  IdleStd                  float64\n",
      " 76  IdleMax                  int64  \n",
      " 77  IdleMin                  int64  \n",
      " 78  Label                    object \n",
      "dtypes: float64(24), int64(54), object(1)\n",
      "memory usage: 1.4+ GB\n"
     ]
    }
   ],
   "source": [
    "dataset.info()"
   ]
  },
  {
   "cell_type": "code",
   "execution_count": 10,
   "metadata": {
    "hidden": true
   },
   "outputs": [
    {
     "data": {
      "text/html": [
       "<div>\n",
       "<style scoped>\n",
       "    .dataframe tbody tr th:only-of-type {\n",
       "        vertical-align: middle;\n",
       "    }\n",
       "\n",
       "    .dataframe tbody tr th {\n",
       "        vertical-align: top;\n",
       "    }\n",
       "\n",
       "    .dataframe thead th {\n",
       "        text-align: right;\n",
       "    }\n",
       "</style>\n",
       "<table border=\"1\" class=\"dataframe\">\n",
       "  <thead>\n",
       "    <tr style=\"text-align: right;\">\n",
       "      <th></th>\n",
       "      <th>DestinationPort</th>\n",
       "      <th>FlowDuration</th>\n",
       "      <th>TotalFwdPackets</th>\n",
       "      <th>TotalBackwardPackets</th>\n",
       "      <th>TotalLengthofFwdPackets</th>\n",
       "      <th>TotalLengthofBwdPackets</th>\n",
       "      <th>FwdPacketLengthMax</th>\n",
       "      <th>FwdPacketLengthMin</th>\n",
       "      <th>FwdPacketLengthMean</th>\n",
       "      <th>FwdPacketLengthStd</th>\n",
       "      <th>...</th>\n",
       "      <th>act_data_pkt_fwd</th>\n",
       "      <th>min_seg_size_forward</th>\n",
       "      <th>ActiveMean</th>\n",
       "      <th>ActiveStd</th>\n",
       "      <th>ActiveMax</th>\n",
       "      <th>ActiveMin</th>\n",
       "      <th>IdleMean</th>\n",
       "      <th>IdleStd</th>\n",
       "      <th>IdleMax</th>\n",
       "      <th>IdleMin</th>\n",
       "    </tr>\n",
       "  </thead>\n",
       "  <tbody>\n",
       "    <tr>\n",
       "      <th>count</th>\n",
       "      <td>2.427193e+06</td>\n",
       "      <td>2.427193e+06</td>\n",
       "      <td>2.427193e+06</td>\n",
       "      <td>2.427193e+06</td>\n",
       "      <td>2.427193e+06</td>\n",
       "      <td>2.427193e+06</td>\n",
       "      <td>2.427193e+06</td>\n",
       "      <td>2.427193e+06</td>\n",
       "      <td>2.427193e+06</td>\n",
       "      <td>2.427193e+06</td>\n",
       "      <td>...</td>\n",
       "      <td>2.427193e+06</td>\n",
       "      <td>2.427193e+06</td>\n",
       "      <td>2.427193e+06</td>\n",
       "      <td>2.427193e+06</td>\n",
       "      <td>2.427193e+06</td>\n",
       "      <td>2.427193e+06</td>\n",
       "      <td>2.427193e+06</td>\n",
       "      <td>2.427193e+06</td>\n",
       "      <td>2.427193e+06</td>\n",
       "      <td>2.427193e+06</td>\n",
       "    </tr>\n",
       "    <tr>\n",
       "      <th>mean</th>\n",
       "      <td>8.887218e+03</td>\n",
       "      <td>1.722299e+07</td>\n",
       "      <td>1.061457e+01</td>\n",
       "      <td>1.197127e+01</td>\n",
       "      <td>6.337711e+02</td>\n",
       "      <td>1.884117e+04</td>\n",
       "      <td>2.393483e+02</td>\n",
       "      <td>1.916761e+01</td>\n",
       "      <td>6.516700e+01</td>\n",
       "      <td>8.029052e+01</td>\n",
       "      <td>...</td>\n",
       "      <td>6.218988e+00</td>\n",
       "      <td>-3.202190e+03</td>\n",
       "      <td>9.511021e+04</td>\n",
       "      <td>4.797316e+04</td>\n",
       "      <td>1.786510e+05</td>\n",
       "      <td>6.798820e+04</td>\n",
       "      <td>9.696673e+06</td>\n",
       "      <td>5.876141e+05</td>\n",
       "      <td>1.013952e+07</td>\n",
       "      <td>9.234826e+06</td>\n",
       "    </tr>\n",
       "    <tr>\n",
       "      <th>std</th>\n",
       "      <td>1.925879e+04</td>\n",
       "      <td>3.574909e+07</td>\n",
       "      <td>8.095918e+02</td>\n",
       "      <td>1.077107e+03</td>\n",
       "      <td>1.078985e+04</td>\n",
       "      <td>2.443980e+06</td>\n",
       "      <td>7.696329e+02</td>\n",
       "      <td>6.151622e+01</td>\n",
       "      <td>1.989624e+02</td>\n",
       "      <td>3.021573e+02</td>\n",
       "      <td>...</td>\n",
       "      <td>6.872956e+02</td>\n",
       "      <td>1.171719e+06</td>\n",
       "      <td>6.995254e+05</td>\n",
       "      <td>4.244406e+05</td>\n",
       "      <td>1.105770e+06</td>\n",
       "      <td>6.226939e+05</td>\n",
       "      <td>2.525299e+07</td>\n",
       "      <td>4.965976e+06</td>\n",
       "      <td>2.603281e+07</td>\n",
       "      <td>2.498687e+07</td>\n",
       "    </tr>\n",
       "    <tr>\n",
       "      <th>min</th>\n",
       "      <td>0.000000e+00</td>\n",
       "      <td>-1.300000e+01</td>\n",
       "      <td>1.000000e+00</td>\n",
       "      <td>0.000000e+00</td>\n",
       "      <td>0.000000e+00</td>\n",
       "      <td>0.000000e+00</td>\n",
       "      <td>0.000000e+00</td>\n",
       "      <td>0.000000e+00</td>\n",
       "      <td>0.000000e+00</td>\n",
       "      <td>0.000000e+00</td>\n",
       "      <td>...</td>\n",
       "      <td>0.000000e+00</td>\n",
       "      <td>-5.368707e+08</td>\n",
       "      <td>0.000000e+00</td>\n",
       "      <td>0.000000e+00</td>\n",
       "      <td>0.000000e+00</td>\n",
       "      <td>0.000000e+00</td>\n",
       "      <td>0.000000e+00</td>\n",
       "      <td>0.000000e+00</td>\n",
       "      <td>0.000000e+00</td>\n",
       "      <td>0.000000e+00</td>\n",
       "    </tr>\n",
       "    <tr>\n",
       "      <th>25%</th>\n",
       "      <td>5.300000e+01</td>\n",
       "      <td>2.350000e+02</td>\n",
       "      <td>2.000000e+00</td>\n",
       "      <td>1.000000e+00</td>\n",
       "      <td>2.400000e+01</td>\n",
       "      <td>6.000000e+00</td>\n",
       "      <td>6.000000e+00</td>\n",
       "      <td>0.000000e+00</td>\n",
       "      <td>6.000000e+00</td>\n",
       "      <td>0.000000e+00</td>\n",
       "      <td>...</td>\n",
       "      <td>0.000000e+00</td>\n",
       "      <td>2.000000e+01</td>\n",
       "      <td>0.000000e+00</td>\n",
       "      <td>0.000000e+00</td>\n",
       "      <td>0.000000e+00</td>\n",
       "      <td>0.000000e+00</td>\n",
       "      <td>0.000000e+00</td>\n",
       "      <td>0.000000e+00</td>\n",
       "      <td>0.000000e+00</td>\n",
       "      <td>0.000000e+00</td>\n",
       "    </tr>\n",
       "    <tr>\n",
       "      <th>50%</th>\n",
       "      <td>8.000000e+01</td>\n",
       "      <td>6.049300e+04</td>\n",
       "      <td>2.000000e+00</td>\n",
       "      <td>2.000000e+00</td>\n",
       "      <td>6.800000e+01</td>\n",
       "      <td>1.620000e+02</td>\n",
       "      <td>4.100000e+01</td>\n",
       "      <td>2.000000e+00</td>\n",
       "      <td>3.700000e+01</td>\n",
       "      <td>0.000000e+00</td>\n",
       "      <td>...</td>\n",
       "      <td>1.000000e+00</td>\n",
       "      <td>2.000000e+01</td>\n",
       "      <td>0.000000e+00</td>\n",
       "      <td>0.000000e+00</td>\n",
       "      <td>0.000000e+00</td>\n",
       "      <td>0.000000e+00</td>\n",
       "      <td>0.000000e+00</td>\n",
       "      <td>0.000000e+00</td>\n",
       "      <td>0.000000e+00</td>\n",
       "      <td>0.000000e+00</td>\n",
       "    </tr>\n",
       "    <tr>\n",
       "      <th>75%</th>\n",
       "      <td>4.430000e+02</td>\n",
       "      <td>5.558409e+06</td>\n",
       "      <td>6.000000e+00</td>\n",
       "      <td>5.000000e+00</td>\n",
       "      <td>3.470000e+02</td>\n",
       "      <td>1.592000e+03</td>\n",
       "      <td>2.280000e+02</td>\n",
       "      <td>3.700000e+01</td>\n",
       "      <td>5.300000e+01</td>\n",
       "      <td>7.868654e+01</td>\n",
       "      <td>...</td>\n",
       "      <td>3.000000e+00</td>\n",
       "      <td>3.200000e+01</td>\n",
       "      <td>0.000000e+00</td>\n",
       "      <td>0.000000e+00</td>\n",
       "      <td>0.000000e+00</td>\n",
       "      <td>0.000000e+00</td>\n",
       "      <td>0.000000e+00</td>\n",
       "      <td>0.000000e+00</td>\n",
       "      <td>0.000000e+00</td>\n",
       "      <td>0.000000e+00</td>\n",
       "    </tr>\n",
       "    <tr>\n",
       "      <th>max</th>\n",
       "      <td>6.553500e+04</td>\n",
       "      <td>1.200000e+08</td>\n",
       "      <td>2.197590e+05</td>\n",
       "      <td>2.919220e+05</td>\n",
       "      <td>1.290000e+07</td>\n",
       "      <td>6.554530e+08</td>\n",
       "      <td>2.482000e+04</td>\n",
       "      <td>2.325000e+03</td>\n",
       "      <td>5.940857e+03</td>\n",
       "      <td>7.125597e+03</td>\n",
       "      <td>...</td>\n",
       "      <td>2.135570e+05</td>\n",
       "      <td>1.380000e+02</td>\n",
       "      <td>1.100000e+08</td>\n",
       "      <td>7.420000e+07</td>\n",
       "      <td>1.100000e+08</td>\n",
       "      <td>1.100000e+08</td>\n",
       "      <td>1.200000e+08</td>\n",
       "      <td>7.690000e+07</td>\n",
       "      <td>1.200000e+08</td>\n",
       "      <td>1.200000e+08</td>\n",
       "    </tr>\n",
       "  </tbody>\n",
       "</table>\n",
       "<p>8 rows × 78 columns</p>\n",
       "</div>"
      ],
      "text/plain": [
       "       DestinationPort  FlowDuration  TotalFwdPackets  TotalBackwardPackets  \\\n",
       "count     2.427193e+06  2.427193e+06     2.427193e+06          2.427193e+06   \n",
       "mean      8.887218e+03  1.722299e+07     1.061457e+01          1.197127e+01   \n",
       "std       1.925879e+04  3.574909e+07     8.095918e+02          1.077107e+03   \n",
       "min       0.000000e+00 -1.300000e+01     1.000000e+00          0.000000e+00   \n",
       "25%       5.300000e+01  2.350000e+02     2.000000e+00          1.000000e+00   \n",
       "50%       8.000000e+01  6.049300e+04     2.000000e+00          2.000000e+00   \n",
       "75%       4.430000e+02  5.558409e+06     6.000000e+00          5.000000e+00   \n",
       "max       6.553500e+04  1.200000e+08     2.197590e+05          2.919220e+05   \n",
       "\n",
       "       TotalLengthofFwdPackets  TotalLengthofBwdPackets  FwdPacketLengthMax  \\\n",
       "count             2.427193e+06             2.427193e+06        2.427193e+06   \n",
       "mean              6.337711e+02             1.884117e+04        2.393483e+02   \n",
       "std               1.078985e+04             2.443980e+06        7.696329e+02   \n",
       "min               0.000000e+00             0.000000e+00        0.000000e+00   \n",
       "25%               2.400000e+01             6.000000e+00        6.000000e+00   \n",
       "50%               6.800000e+01             1.620000e+02        4.100000e+01   \n",
       "75%               3.470000e+02             1.592000e+03        2.280000e+02   \n",
       "max               1.290000e+07             6.554530e+08        2.482000e+04   \n",
       "\n",
       "       FwdPacketLengthMin  FwdPacketLengthMean  FwdPacketLengthStd  ...  \\\n",
       "count        2.427193e+06         2.427193e+06        2.427193e+06  ...   \n",
       "mean         1.916761e+01         6.516700e+01        8.029052e+01  ...   \n",
       "std          6.151622e+01         1.989624e+02        3.021573e+02  ...   \n",
       "min          0.000000e+00         0.000000e+00        0.000000e+00  ...   \n",
       "25%          0.000000e+00         6.000000e+00        0.000000e+00  ...   \n",
       "50%          2.000000e+00         3.700000e+01        0.000000e+00  ...   \n",
       "75%          3.700000e+01         5.300000e+01        7.868654e+01  ...   \n",
       "max          2.325000e+03         5.940857e+03        7.125597e+03  ...   \n",
       "\n",
       "       act_data_pkt_fwd  min_seg_size_forward    ActiveMean     ActiveStd  \\\n",
       "count      2.427193e+06          2.427193e+06  2.427193e+06  2.427193e+06   \n",
       "mean       6.218988e+00         -3.202190e+03  9.511021e+04  4.797316e+04   \n",
       "std        6.872956e+02          1.171719e+06  6.995254e+05  4.244406e+05   \n",
       "min        0.000000e+00         -5.368707e+08  0.000000e+00  0.000000e+00   \n",
       "25%        0.000000e+00          2.000000e+01  0.000000e+00  0.000000e+00   \n",
       "50%        1.000000e+00          2.000000e+01  0.000000e+00  0.000000e+00   \n",
       "75%        3.000000e+00          3.200000e+01  0.000000e+00  0.000000e+00   \n",
       "max        2.135570e+05          1.380000e+02  1.100000e+08  7.420000e+07   \n",
       "\n",
       "          ActiveMax     ActiveMin      IdleMean       IdleStd       IdleMax  \\\n",
       "count  2.427193e+06  2.427193e+06  2.427193e+06  2.427193e+06  2.427193e+06   \n",
       "mean   1.786510e+05  6.798820e+04  9.696673e+06  5.876141e+05  1.013952e+07   \n",
       "std    1.105770e+06  6.226939e+05  2.525299e+07  4.965976e+06  2.603281e+07   \n",
       "min    0.000000e+00  0.000000e+00  0.000000e+00  0.000000e+00  0.000000e+00   \n",
       "25%    0.000000e+00  0.000000e+00  0.000000e+00  0.000000e+00  0.000000e+00   \n",
       "50%    0.000000e+00  0.000000e+00  0.000000e+00  0.000000e+00  0.000000e+00   \n",
       "75%    0.000000e+00  0.000000e+00  0.000000e+00  0.000000e+00  0.000000e+00   \n",
       "max    1.100000e+08  1.100000e+08  1.200000e+08  7.690000e+07  1.200000e+08   \n",
       "\n",
       "            IdleMin  \n",
       "count  2.427193e+06  \n",
       "mean   9.234826e+06  \n",
       "std    2.498687e+07  \n",
       "min    0.000000e+00  \n",
       "25%    0.000000e+00  \n",
       "50%    0.000000e+00  \n",
       "75%    0.000000e+00  \n",
       "max    1.200000e+08  \n",
       "\n",
       "[8 rows x 78 columns]"
      ]
     },
     "execution_count": 10,
     "metadata": {},
     "output_type": "execute_result"
    }
   ],
   "source": [
    "dataset.describe()"
   ]
  },
  {
   "cell_type": "markdown",
   "metadata": {
    "hidden": true
   },
   "source": [
    "Upon further inspection we can see that dataset contains 15 labels. Labels represent network/web attacks and BENIGN state which is the network traffic during normal business day. "
   ]
  },
  {
   "cell_type": "code",
   "execution_count": 11,
   "metadata": {
    "hidden": true,
    "scrolled": false
   },
   "outputs": [
    {
     "name": "stdout",
     "output_type": "stream",
     "text": [
      "['BENIGN' 'DDoS' 'PortScan' 'Bot' 'Infiltration'\n",
      " 'Web Attack � Brute Force' 'Web Attack � XSS'\n",
      " 'Web Attack � Sql Injection' 'FTP-Patator' 'SSH-Patator' 'DoS slowloris'\n",
      " 'DoS Slowhttptest' 'DoS Hulk' 'DoS GoldenEye' 'Heartbleed']\n"
     ]
    },
    {
     "data": {
      "text/plain": [
       "15"
      ]
     },
     "execution_count": 11,
     "metadata": {},
     "output_type": "execute_result"
    }
   ],
   "source": [
    "print(dataset['Label'].unique())\n",
    "len(dataset['Label'].unique())"
   ]
  },
  {
   "cell_type": "code",
   "execution_count": 12,
   "metadata": {
    "hidden": true
   },
   "outputs": [
    {
     "data": {
      "text/html": [
       "<div>\n",
       "<style scoped>\n",
       "    .dataframe tbody tr th:only-of-type {\n",
       "        vertical-align: middle;\n",
       "    }\n",
       "\n",
       "    .dataframe tbody tr th {\n",
       "        vertical-align: top;\n",
       "    }\n",
       "\n",
       "    .dataframe thead th {\n",
       "        text-align: right;\n",
       "    }\n",
       "</style>\n",
       "<table border=\"1\" class=\"dataframe\">\n",
       "  <thead>\n",
       "    <tr style=\"text-align: right;\">\n",
       "      <th></th>\n",
       "      <th>DestinationPort</th>\n",
       "      <th>FlowDuration</th>\n",
       "      <th>TotalFwdPackets</th>\n",
       "      <th>TotalBackwardPackets</th>\n",
       "      <th>TotalLengthofFwdPackets</th>\n",
       "      <th>TotalLengthofBwdPackets</th>\n",
       "      <th>FwdPacketLengthMax</th>\n",
       "      <th>FwdPacketLengthMin</th>\n",
       "      <th>FwdPacketLengthMean</th>\n",
       "      <th>FwdPacketLengthStd</th>\n",
       "      <th>...</th>\n",
       "      <th>min_seg_size_forward</th>\n",
       "      <th>ActiveMean</th>\n",
       "      <th>ActiveStd</th>\n",
       "      <th>ActiveMax</th>\n",
       "      <th>ActiveMin</th>\n",
       "      <th>IdleMean</th>\n",
       "      <th>IdleStd</th>\n",
       "      <th>IdleMax</th>\n",
       "      <th>IdleMin</th>\n",
       "      <th>Label</th>\n",
       "    </tr>\n",
       "  </thead>\n",
       "  <tbody>\n",
       "    <tr>\n",
       "      <th>0</th>\n",
       "      <td>54865</td>\n",
       "      <td>3</td>\n",
       "      <td>2</td>\n",
       "      <td>0</td>\n",
       "      <td>12</td>\n",
       "      <td>0</td>\n",
       "      <td>6</td>\n",
       "      <td>6</td>\n",
       "      <td>6.0</td>\n",
       "      <td>0.0</td>\n",
       "      <td>...</td>\n",
       "      <td>20</td>\n",
       "      <td>0.0</td>\n",
       "      <td>0.0</td>\n",
       "      <td>0</td>\n",
       "      <td>0</td>\n",
       "      <td>0.0</td>\n",
       "      <td>0.0</td>\n",
       "      <td>0</td>\n",
       "      <td>0</td>\n",
       "      <td>BENIGN</td>\n",
       "    </tr>\n",
       "    <tr>\n",
       "      <th>1</th>\n",
       "      <td>55054</td>\n",
       "      <td>109</td>\n",
       "      <td>1</td>\n",
       "      <td>1</td>\n",
       "      <td>6</td>\n",
       "      <td>6</td>\n",
       "      <td>6</td>\n",
       "      <td>6</td>\n",
       "      <td>6.0</td>\n",
       "      <td>0.0</td>\n",
       "      <td>...</td>\n",
       "      <td>20</td>\n",
       "      <td>0.0</td>\n",
       "      <td>0.0</td>\n",
       "      <td>0</td>\n",
       "      <td>0</td>\n",
       "      <td>0.0</td>\n",
       "      <td>0.0</td>\n",
       "      <td>0</td>\n",
       "      <td>0</td>\n",
       "      <td>BENIGN</td>\n",
       "    </tr>\n",
       "    <tr>\n",
       "      <th>2</th>\n",
       "      <td>55055</td>\n",
       "      <td>52</td>\n",
       "      <td>1</td>\n",
       "      <td>1</td>\n",
       "      <td>6</td>\n",
       "      <td>6</td>\n",
       "      <td>6</td>\n",
       "      <td>6</td>\n",
       "      <td>6.0</td>\n",
       "      <td>0.0</td>\n",
       "      <td>...</td>\n",
       "      <td>20</td>\n",
       "      <td>0.0</td>\n",
       "      <td>0.0</td>\n",
       "      <td>0</td>\n",
       "      <td>0</td>\n",
       "      <td>0.0</td>\n",
       "      <td>0.0</td>\n",
       "      <td>0</td>\n",
       "      <td>0</td>\n",
       "      <td>BENIGN</td>\n",
       "    </tr>\n",
       "    <tr>\n",
       "      <th>3</th>\n",
       "      <td>46236</td>\n",
       "      <td>34</td>\n",
       "      <td>1</td>\n",
       "      <td>1</td>\n",
       "      <td>6</td>\n",
       "      <td>6</td>\n",
       "      <td>6</td>\n",
       "      <td>6</td>\n",
       "      <td>6.0</td>\n",
       "      <td>0.0</td>\n",
       "      <td>...</td>\n",
       "      <td>20</td>\n",
       "      <td>0.0</td>\n",
       "      <td>0.0</td>\n",
       "      <td>0</td>\n",
       "      <td>0</td>\n",
       "      <td>0.0</td>\n",
       "      <td>0.0</td>\n",
       "      <td>0</td>\n",
       "      <td>0</td>\n",
       "      <td>BENIGN</td>\n",
       "    </tr>\n",
       "    <tr>\n",
       "      <th>4</th>\n",
       "      <td>54863</td>\n",
       "      <td>3</td>\n",
       "      <td>2</td>\n",
       "      <td>0</td>\n",
       "      <td>12</td>\n",
       "      <td>0</td>\n",
       "      <td>6</td>\n",
       "      <td>6</td>\n",
       "      <td>6.0</td>\n",
       "      <td>0.0</td>\n",
       "      <td>...</td>\n",
       "      <td>20</td>\n",
       "      <td>0.0</td>\n",
       "      <td>0.0</td>\n",
       "      <td>0</td>\n",
       "      <td>0</td>\n",
       "      <td>0.0</td>\n",
       "      <td>0.0</td>\n",
       "      <td>0</td>\n",
       "      <td>0</td>\n",
       "      <td>BENIGN</td>\n",
       "    </tr>\n",
       "  </tbody>\n",
       "</table>\n",
       "<p>5 rows × 79 columns</p>\n",
       "</div>"
      ],
      "text/plain": [
       "   DestinationPort  FlowDuration  TotalFwdPackets  TotalBackwardPackets  \\\n",
       "0            54865             3                2                     0   \n",
       "1            55054           109                1                     1   \n",
       "2            55055            52                1                     1   \n",
       "3            46236            34                1                     1   \n",
       "4            54863             3                2                     0   \n",
       "\n",
       "   TotalLengthofFwdPackets  TotalLengthofBwdPackets  FwdPacketLengthMax  \\\n",
       "0                       12                        0                   6   \n",
       "1                        6                        6                   6   \n",
       "2                        6                        6                   6   \n",
       "3                        6                        6                   6   \n",
       "4                       12                        0                   6   \n",
       "\n",
       "   FwdPacketLengthMin  FwdPacketLengthMean  FwdPacketLengthStd  ...  \\\n",
       "0                   6                  6.0                 0.0  ...   \n",
       "1                   6                  6.0                 0.0  ...   \n",
       "2                   6                  6.0                 0.0  ...   \n",
       "3                   6                  6.0                 0.0  ...   \n",
       "4                   6                  6.0                 0.0  ...   \n",
       "\n",
       "   min_seg_size_forward  ActiveMean  ActiveStd  ActiveMax  ActiveMin  \\\n",
       "0                    20         0.0        0.0          0          0   \n",
       "1                    20         0.0        0.0          0          0   \n",
       "2                    20         0.0        0.0          0          0   \n",
       "3                    20         0.0        0.0          0          0   \n",
       "4                    20         0.0        0.0          0          0   \n",
       "\n",
       "   IdleMean  IdleStd  IdleMax  IdleMin   Label  \n",
       "0       0.0      0.0        0        0  BENIGN  \n",
       "1       0.0      0.0        0        0  BENIGN  \n",
       "2       0.0      0.0        0        0  BENIGN  \n",
       "3       0.0      0.0        0        0  BENIGN  \n",
       "4       0.0      0.0        0        0  BENIGN  \n",
       "\n",
       "[5 rows x 79 columns]"
      ]
     },
     "execution_count": 12,
     "metadata": {},
     "output_type": "execute_result"
    }
   ],
   "source": [
    "dataset.head()"
   ]
  },
  {
   "cell_type": "code",
   "execution_count": 13,
   "metadata": {
    "hidden": true
   },
   "outputs": [],
   "source": [
    "import seaborn as sns\n",
    "import matplotlib.pyplot as plt"
   ]
  },
  {
   "cell_type": "code",
   "execution_count": 14,
   "metadata": {
    "hidden": true
   },
   "outputs": [],
   "source": [
    "data = dataset['Label'].where(dataset['Label'] != \"BENIGN\")"
   ]
  },
  {
   "cell_type": "code",
   "execution_count": 15,
   "metadata": {
    "hidden": true,
    "hide_input": false
   },
   "outputs": [
    {
     "name": "stderr",
     "output_type": "stream",
     "text": [
      "C:\\ProgramData\\Anaconda3\\lib\\site-packages\\seaborn\\_decorators.py:36: FutureWarning: Pass the following variable as a keyword arg: x. From version 0.12, the only valid positional argument will be `data`, and passing other arguments without an explicit keyword will result in an error or misinterpretation.\n",
      "  warnings.warn(\n"
     ]
    },
    {
     "data": {
      "text/plain": [
       "(array([ 0,  1,  2,  3,  4,  5,  6,  7,  8,  9, 10, 11, 12, 13]),\n",
       " [Text(0, 0, 'DDoS'),\n",
       "  Text(1, 0, 'PortScan'),\n",
       "  Text(2, 0, 'Bot'),\n",
       "  Text(3, 0, 'Infiltration'),\n",
       "  Text(4, 0, 'Web Attack � Brute Force'),\n",
       "  Text(5, 0, 'Web Attack � XSS'),\n",
       "  Text(6, 0, 'Web Attack � Sql Injection'),\n",
       "  Text(7, 0, 'FTP-Patator'),\n",
       "  Text(8, 0, 'SSH-Patator'),\n",
       "  Text(9, 0, 'DoS slowloris'),\n",
       "  Text(10, 0, 'DoS Slowhttptest'),\n",
       "  Text(11, 0, 'DoS Hulk'),\n",
       "  Text(12, 0, 'DoS GoldenEye'),\n",
       "  Text(13, 0, 'Heartbleed')])"
      ]
     },
     "execution_count": 15,
     "metadata": {},
     "output_type": "execute_result"
    },
    {
     "data": {
      "image/png": "[encoded data removed]",
      "text/plain": [
       "<Figure size 1080x432 with 1 Axes>"
      ]
     },
     "metadata": {
      "needs_background": "light"
     },
     "output_type": "display_data"
    }
   ],
   "source": [
    "plt.figure(figsize=(15,6))\n",
    "chart = sns.countplot(data, palette=\"Set1\")\n",
    "plt.xticks(rotation=45, horizontalalignment=\"right\")"
   ]
  },
  {
   "cell_type": "markdown",
   "metadata": {
    "heading_collapsed": true,
    "hidden": true
   },
   "source": [
    "# Renaming columns and Data Cleaning"
   ]
  },
  {
   "cell_type": "code",
   "execution_count": 16,
   "metadata": {
    "hidden": true
   },
   "outputs": [
    {
     "data": {
      "text/html": [
       "<div>\n",
       "<style scoped>\n",
       "    .dataframe tbody tr th:only-of-type {\n",
       "        vertical-align: middle;\n",
       "    }\n",
       "\n",
       "    .dataframe tbody tr th {\n",
       "        vertical-align: top;\n",
       "    }\n",
       "\n",
       "    .dataframe thead th {\n",
       "        text-align: right;\n",
       "    }\n",
       "</style>\n",
       "<table border=\"1\" class=\"dataframe\">\n",
       "  <thead>\n",
       "    <tr style=\"text-align: right;\">\n",
       "      <th></th>\n",
       "      <th>DestinationPort</th>\n",
       "      <th>FlowDuration</th>\n",
       "      <th>TotalFwdPackets</th>\n",
       "      <th>TotalBackwardPackets</th>\n",
       "      <th>TotalLengthofFwdPackets</th>\n",
       "      <th>TotalLengthofBwdPackets</th>\n",
       "      <th>FwdPacketLengthMax</th>\n",
       "      <th>FwdPacketLengthMin</th>\n",
       "      <th>FwdPacketLengthMean</th>\n",
       "      <th>FwdPacketLengthStd</th>\n",
       "      <th>...</th>\n",
       "      <th>min_seg_size_forward</th>\n",
       "      <th>ActiveMean</th>\n",
       "      <th>ActiveStd</th>\n",
       "      <th>ActiveMax</th>\n",
       "      <th>ActiveMin</th>\n",
       "      <th>IdleMean</th>\n",
       "      <th>IdleStd</th>\n",
       "      <th>IdleMax</th>\n",
       "      <th>IdleMin</th>\n",
       "      <th>Label</th>\n",
       "    </tr>\n",
       "  </thead>\n",
       "  <tbody>\n",
       "    <tr>\n",
       "      <th>0</th>\n",
       "      <td>54865</td>\n",
       "      <td>3</td>\n",
       "      <td>2</td>\n",
       "      <td>0</td>\n",
       "      <td>12</td>\n",
       "      <td>0</td>\n",
       "      <td>6</td>\n",
       "      <td>6</td>\n",
       "      <td>6.0</td>\n",
       "      <td>0.0</td>\n",
       "      <td>...</td>\n",
       "      <td>20</td>\n",
       "      <td>0.0</td>\n",
       "      <td>0.0</td>\n",
       "      <td>0</td>\n",
       "      <td>0</td>\n",
       "      <td>0.0</td>\n",
       "      <td>0.0</td>\n",
       "      <td>0</td>\n",
       "      <td>0</td>\n",
       "      <td>BENIGN</td>\n",
       "    </tr>\n",
       "    <tr>\n",
       "      <th>1</th>\n",
       "      <td>55054</td>\n",
       "      <td>109</td>\n",
       "      <td>1</td>\n",
       "      <td>1</td>\n",
       "      <td>6</td>\n",
       "      <td>6</td>\n",
       "      <td>6</td>\n",
       "      <td>6</td>\n",
       "      <td>6.0</td>\n",
       "      <td>0.0</td>\n",
       "      <td>...</td>\n",
       "      <td>20</td>\n",
       "      <td>0.0</td>\n",
       "      <td>0.0</td>\n",
       "      <td>0</td>\n",
       "      <td>0</td>\n",
       "      <td>0.0</td>\n",
       "      <td>0.0</td>\n",
       "      <td>0</td>\n",
       "      <td>0</td>\n",
       "      <td>BENIGN</td>\n",
       "    </tr>\n",
       "    <tr>\n",
       "      <th>2</th>\n",
       "      <td>55055</td>\n",
       "      <td>52</td>\n",
       "      <td>1</td>\n",
       "      <td>1</td>\n",
       "      <td>6</td>\n",
       "      <td>6</td>\n",
       "      <td>6</td>\n",
       "      <td>6</td>\n",
       "      <td>6.0</td>\n",
       "      <td>0.0</td>\n",
       "      <td>...</td>\n",
       "      <td>20</td>\n",
       "      <td>0.0</td>\n",
       "      <td>0.0</td>\n",
       "      <td>0</td>\n",
       "      <td>0</td>\n",
       "      <td>0.0</td>\n",
       "      <td>0.0</td>\n",
       "      <td>0</td>\n",
       "      <td>0</td>\n",
       "      <td>BENIGN</td>\n",
       "    </tr>\n",
       "    <tr>\n",
       "      <th>3</th>\n",
       "      <td>46236</td>\n",
       "      <td>34</td>\n",
       "      <td>1</td>\n",
       "      <td>1</td>\n",
       "      <td>6</td>\n",
       "      <td>6</td>\n",
       "      <td>6</td>\n",
       "      <td>6</td>\n",
       "      <td>6.0</td>\n",
       "      <td>0.0</td>\n",
       "      <td>...</td>\n",
       "      <td>20</td>\n",
       "      <td>0.0</td>\n",
       "      <td>0.0</td>\n",
       "      <td>0</td>\n",
       "      <td>0</td>\n",
       "      <td>0.0</td>\n",
       "      <td>0.0</td>\n",
       "      <td>0</td>\n",
       "      <td>0</td>\n",
       "      <td>BENIGN</td>\n",
       "    </tr>\n",
       "    <tr>\n",
       "      <th>4</th>\n",
       "      <td>54863</td>\n",
       "      <td>3</td>\n",
       "      <td>2</td>\n",
       "      <td>0</td>\n",
       "      <td>12</td>\n",
       "      <td>0</td>\n",
       "      <td>6</td>\n",
       "      <td>6</td>\n",
       "      <td>6.0</td>\n",
       "      <td>0.0</td>\n",
       "      <td>...</td>\n",
       "      <td>20</td>\n",
       "      <td>0.0</td>\n",
       "      <td>0.0</td>\n",
       "      <td>0</td>\n",
       "      <td>0</td>\n",
       "      <td>0.0</td>\n",
       "      <td>0.0</td>\n",
       "      <td>0</td>\n",
       "      <td>0</td>\n",
       "      <td>BENIGN</td>\n",
       "    </tr>\n",
       "  </tbody>\n",
       "</table>\n",
       "<p>5 rows × 79 columns</p>\n",
       "</div>"
      ],
      "text/plain": [
       "   DestinationPort  FlowDuration  TotalFwdPackets  TotalBackwardPackets  \\\n",
       "0            54865             3                2                     0   \n",
       "1            55054           109                1                     1   \n",
       "2            55055            52                1                     1   \n",
       "3            46236            34                1                     1   \n",
       "4            54863             3                2                     0   \n",
       "\n",
       "   TotalLengthofFwdPackets  TotalLengthofBwdPackets  FwdPacketLengthMax  \\\n",
       "0                       12                        0                   6   \n",
       "1                        6                        6                   6   \n",
       "2                        6                        6                   6   \n",
       "3                        6                        6                   6   \n",
       "4                       12                        0                   6   \n",
       "\n",
       "   FwdPacketLengthMin  FwdPacketLengthMean  FwdPacketLengthStd  ...  \\\n",
       "0                   6                  6.0                 0.0  ...   \n",
       "1                   6                  6.0                 0.0  ...   \n",
       "2                   6                  6.0                 0.0  ...   \n",
       "3                   6                  6.0                 0.0  ...   \n",
       "4                   6                  6.0                 0.0  ...   \n",
       "\n",
       "   min_seg_size_forward  ActiveMean  ActiveStd  ActiveMax  ActiveMin  \\\n",
       "0                    20         0.0        0.0          0          0   \n",
       "1                    20         0.0        0.0          0          0   \n",
       "2                    20         0.0        0.0          0          0   \n",
       "3                    20         0.0        0.0          0          0   \n",
       "4                    20         0.0        0.0          0          0   \n",
       "\n",
       "   IdleMean  IdleStd  IdleMax  IdleMin   Label  \n",
       "0       0.0      0.0        0        0  BENIGN  \n",
       "1       0.0      0.0        0        0  BENIGN  \n",
       "2       0.0      0.0        0        0  BENIGN  \n",
       "3       0.0      0.0        0        0  BENIGN  \n",
       "4       0.0      0.0        0        0  BENIGN  \n",
       "\n",
       "[5 rows x 79 columns]"
      ]
     },
     "execution_count": 16,
     "metadata": {},
     "output_type": "execute_result"
    }
   ],
   "source": [
    "# Removing whitespaces in column names.\n",
    "\n",
    "col_names = [col.replace(' ', '') for col in dataset.columns]\n",
    "dataset.columns = col_names\n",
    "dataset.head()"
   ]
  },
  {
   "cell_type": "code",
   "execution_count": 17,
   "metadata": {
    "hidden": true
   },
   "outputs": [
    {
     "data": {
      "text/plain": [
       "array(['BENIGN', 'DDoS', 'PortScan', 'Bot', 'Infiltration',\n",
       "       'Web Attack � Brute Force', 'Web Attack � XSS',\n",
       "       'Web Attack � Sql Injection', 'FTP-Patator', 'SSH-Patator',\n",
       "       'DoS slowloris', 'DoS Slowhttptest', 'DoS Hulk', 'DoS GoldenEye',\n",
       "       'Heartbleed'], dtype=object)"
      ]
     },
     "execution_count": 17,
     "metadata": {},
     "output_type": "execute_result"
    }
   ],
   "source": [
    "# Here we can see that 'Label' column contains some weird characters. \n",
    "\n",
    "dataset[\"Label\"].unique()"
   ]
  },
  {
   "cell_type": "code",
   "execution_count": 18,
   "metadata": {
    "hidden": true
   },
   "outputs": [
    {
     "data": {
      "text/plain": [
       "(['BENIGN',\n",
       "  'DDoS',\n",
       "  'PortScan',\n",
       "  'Bot',\n",
       "  'Infiltration',\n",
       "  'Web_Attack_Brute_Force',\n",
       "  'Web_Attack_XSS',\n",
       "  'Web_Attack_Sql_Injection',\n",
       "  'FTPPatator',\n",
       "  'SSHPatator',\n",
       "  'DoS_slowloris',\n",
       "  'DoS_Slowhttptest',\n",
       "  'DoS_Hulk',\n",
       "  'DoS_GoldenEye',\n",
       "  'Heartbleed'],\n",
       " 15)"
      ]
     },
     "execution_count": 18,
     "metadata": {},
     "output_type": "execute_result"
    }
   ],
   "source": [
    "label_names = dataset['Label'].unique()\n",
    "\n",
    "\n",
    "import re\n",
    "\n",
    "label_names = [re.sub(\"[^a-zA-Z ]+\", \"\", l) for l in label_names]\n",
    "label_names = [re.sub(\"[\\s\\s]\", '_', l) for l in label_names]\n",
    "label_names = [lab.replace(\"__\", \"_\") for lab in label_names]\n",
    "\n",
    "label_names, len(label_names)"
   ]
  },
  {
   "cell_type": "code",
   "execution_count": 19,
   "metadata": {
    "hidden": true
   },
   "outputs": [
    {
     "data": {
      "text/plain": [
       "array(['BENIGN', 'DDoS', 'PortScan', 'Bot', 'Infiltration',\n",
       "       'Web_Attack_Brute_Force', 'Web_Attack_XSS',\n",
       "       'Web_Attack_Sql_Injection', 'FTPPatator', 'SSHPatator',\n",
       "       'DoS_slowloris', 'DoS_Slowhttptest', 'DoS_Hulk', 'DoS_GoldenEye',\n",
       "       'Heartbleed'], dtype=object)"
      ]
     },
     "execution_count": 19,
     "metadata": {},
     "output_type": "execute_result"
    }
   ],
   "source": [
    "labels = dataset['Label'].unique()\n",
    "\n",
    "for i in range(0,len(label_names)):\n",
    "    dataset['Label'] = dataset['Label'].replace({labels[i] : label_names[i]})\n",
    "    \n",
    "dataset['Label'].unique()"
   ]
  },
  {
   "cell_type": "code",
   "execution_count": 20,
   "metadata": {
    "hidden": true,
    "scrolled": true
   },
   "outputs": [
    {
     "data": {
      "text/plain": [
       "15"
      ]
     },
     "execution_count": 20,
     "metadata": {},
     "output_type": "execute_result"
    }
   ],
   "source": [
    "len(dataset['Label'].unique())"
   ]
  },
  {
   "cell_type": "code",
   "execution_count": 21,
   "metadata": {
    "hidden": true
   },
   "outputs": [],
   "source": [
    "# Save cleaned dataset.\n",
    "\n",
    "#dataset.to_csv(\"Dataset_clean.csv\", index=False)"
   ]
  },
  {
   "cell_type": "markdown",
   "metadata": {
    "heading_collapsed": true,
    "hidden": true
   },
   "source": [
    "## Removing NULL values"
   ]
  },
  {
   "cell_type": "code",
   "execution_count": 22,
   "metadata": {
    "hidden": true
   },
   "outputs": [
    {
     "data": {
      "text/html": [
       "<div>\n",
       "<style scoped>\n",
       "    .dataframe tbody tr th:only-of-type {\n",
       "        vertical-align: middle;\n",
       "    }\n",
       "\n",
       "    .dataframe tbody tr th {\n",
       "        vertical-align: top;\n",
       "    }\n",
       "\n",
       "    .dataframe thead th {\n",
       "        text-align: right;\n",
       "    }\n",
       "</style>\n",
       "<table border=\"1\" class=\"dataframe\">\n",
       "  <thead>\n",
       "    <tr style=\"text-align: right;\">\n",
       "      <th></th>\n",
       "      <th>DestinationPort</th>\n",
       "      <th>FlowDuration</th>\n",
       "      <th>TotalFwdPackets</th>\n",
       "      <th>TotalBackwardPackets</th>\n",
       "      <th>TotalLengthofFwdPackets</th>\n",
       "      <th>TotalLengthofBwdPackets</th>\n",
       "      <th>FwdPacketLengthMax</th>\n",
       "      <th>FwdPacketLengthMin</th>\n",
       "      <th>FwdPacketLengthMean</th>\n",
       "      <th>FwdPacketLengthStd</th>\n",
       "      <th>...</th>\n",
       "      <th>min_seg_size_forward</th>\n",
       "      <th>ActiveMean</th>\n",
       "      <th>ActiveStd</th>\n",
       "      <th>ActiveMax</th>\n",
       "      <th>ActiveMin</th>\n",
       "      <th>IdleMean</th>\n",
       "      <th>IdleStd</th>\n",
       "      <th>IdleMax</th>\n",
       "      <th>IdleMin</th>\n",
       "      <th>Label</th>\n",
       "    </tr>\n",
       "  </thead>\n",
       "  <tbody>\n",
       "    <tr>\n",
       "      <th>0</th>\n",
       "      <td>54865</td>\n",
       "      <td>3</td>\n",
       "      <td>2</td>\n",
       "      <td>0</td>\n",
       "      <td>12</td>\n",
       "      <td>0</td>\n",
       "      <td>6</td>\n",
       "      <td>6</td>\n",
       "      <td>6.0</td>\n",
       "      <td>0.0</td>\n",
       "      <td>...</td>\n",
       "      <td>20</td>\n",
       "      <td>0.0</td>\n",
       "      <td>0.0</td>\n",
       "      <td>0</td>\n",
       "      <td>0</td>\n",
       "      <td>0.0</td>\n",
       "      <td>0.0</td>\n",
       "      <td>0</td>\n",
       "      <td>0</td>\n",
       "      <td>BENIGN</td>\n",
       "    </tr>\n",
       "    <tr>\n",
       "      <th>1</th>\n",
       "      <td>55054</td>\n",
       "      <td>109</td>\n",
       "      <td>1</td>\n",
       "      <td>1</td>\n",
       "      <td>6</td>\n",
       "      <td>6</td>\n",
       "      <td>6</td>\n",
       "      <td>6</td>\n",
       "      <td>6.0</td>\n",
       "      <td>0.0</td>\n",
       "      <td>...</td>\n",
       "      <td>20</td>\n",
       "      <td>0.0</td>\n",
       "      <td>0.0</td>\n",
       "      <td>0</td>\n",
       "      <td>0</td>\n",
       "      <td>0.0</td>\n",
       "      <td>0.0</td>\n",
       "      <td>0</td>\n",
       "      <td>0</td>\n",
       "      <td>BENIGN</td>\n",
       "    </tr>\n",
       "    <tr>\n",
       "      <th>2</th>\n",
       "      <td>55055</td>\n",
       "      <td>52</td>\n",
       "      <td>1</td>\n",
       "      <td>1</td>\n",
       "      <td>6</td>\n",
       "      <td>6</td>\n",
       "      <td>6</td>\n",
       "      <td>6</td>\n",
       "      <td>6.0</td>\n",
       "      <td>0.0</td>\n",
       "      <td>...</td>\n",
       "      <td>20</td>\n",
       "      <td>0.0</td>\n",
       "      <td>0.0</td>\n",
       "      <td>0</td>\n",
       "      <td>0</td>\n",
       "      <td>0.0</td>\n",
       "      <td>0.0</td>\n",
       "      <td>0</td>\n",
       "      <td>0</td>\n",
       "      <td>BENIGN</td>\n",
       "    </tr>\n",
       "    <tr>\n",
       "      <th>3</th>\n",
       "      <td>46236</td>\n",
       "      <td>34</td>\n",
       "      <td>1</td>\n",
       "      <td>1</td>\n",
       "      <td>6</td>\n",
       "      <td>6</td>\n",
       "      <td>6</td>\n",
       "      <td>6</td>\n",
       "      <td>6.0</td>\n",
       "      <td>0.0</td>\n",
       "      <td>...</td>\n",
       "      <td>20</td>\n",
       "      <td>0.0</td>\n",
       "      <td>0.0</td>\n",
       "      <td>0</td>\n",
       "      <td>0</td>\n",
       "      <td>0.0</td>\n",
       "      <td>0.0</td>\n",
       "      <td>0</td>\n",
       "      <td>0</td>\n",
       "      <td>BENIGN</td>\n",
       "    </tr>\n",
       "    <tr>\n",
       "      <th>4</th>\n",
       "      <td>54863</td>\n",
       "      <td>3</td>\n",
       "      <td>2</td>\n",
       "      <td>0</td>\n",
       "      <td>12</td>\n",
       "      <td>0</td>\n",
       "      <td>6</td>\n",
       "      <td>6</td>\n",
       "      <td>6.0</td>\n",
       "      <td>0.0</td>\n",
       "      <td>...</td>\n",
       "      <td>20</td>\n",
       "      <td>0.0</td>\n",
       "      <td>0.0</td>\n",
       "      <td>0</td>\n",
       "      <td>0</td>\n",
       "      <td>0.0</td>\n",
       "      <td>0.0</td>\n",
       "      <td>0</td>\n",
       "      <td>0</td>\n",
       "      <td>BENIGN</td>\n",
       "    </tr>\n",
       "  </tbody>\n",
       "</table>\n",
       "<p>5 rows × 79 columns</p>\n",
       "</div>"
      ],
      "text/plain": [
       "   DestinationPort  FlowDuration  TotalFwdPackets  TotalBackwardPackets  \\\n",
       "0            54865             3                2                     0   \n",
       "1            55054           109                1                     1   \n",
       "2            55055            52                1                     1   \n",
       "3            46236            34                1                     1   \n",
       "4            54863             3                2                     0   \n",
       "\n",
       "   TotalLengthofFwdPackets  TotalLengthofBwdPackets  FwdPacketLengthMax  \\\n",
       "0                       12                        0                   6   \n",
       "1                        6                        6                   6   \n",
       "2                        6                        6                   6   \n",
       "3                        6                        6                   6   \n",
       "4                       12                        0                   6   \n",
       "\n",
       "   FwdPacketLengthMin  FwdPacketLengthMean  FwdPacketLengthStd  ...  \\\n",
       "0                   6                  6.0                 0.0  ...   \n",
       "1                   6                  6.0                 0.0  ...   \n",
       "2                   6                  6.0                 0.0  ...   \n",
       "3                   6                  6.0                 0.0  ...   \n",
       "4                   6                  6.0                 0.0  ...   \n",
       "\n",
       "   min_seg_size_forward  ActiveMean  ActiveStd  ActiveMax  ActiveMin  \\\n",
       "0                    20         0.0        0.0          0          0   \n",
       "1                    20         0.0        0.0          0          0   \n",
       "2                    20         0.0        0.0          0          0   \n",
       "3                    20         0.0        0.0          0          0   \n",
       "4                    20         0.0        0.0          0          0   \n",
       "\n",
       "   IdleMean  IdleStd  IdleMax  IdleMin   Label  \n",
       "0       0.0      0.0        0        0  BENIGN  \n",
       "1       0.0      0.0        0        0  BENIGN  \n",
       "2       0.0      0.0        0        0  BENIGN  \n",
       "3       0.0      0.0        0        0  BENIGN  \n",
       "4       0.0      0.0        0        0  BENIGN  \n",
       "\n",
       "[5 rows x 79 columns]"
      ]
     },
     "execution_count": 22,
     "metadata": {},
     "output_type": "execute_result"
    }
   ],
   "source": [
    "dataset.head()"
   ]
  },
  {
   "cell_type": "code",
   "execution_count": 23,
   "metadata": {
    "hidden": true
   },
   "outputs": [
    {
     "data": {
      "text/plain": [
       "True"
      ]
     },
     "execution_count": 23,
     "metadata": {},
     "output_type": "execute_result"
    }
   ],
   "source": [
    "dataset.isnull().values.any()"
   ]
  },
  {
   "cell_type": "code",
   "execution_count": 24,
   "metadata": {
    "hidden": true
   },
   "outputs": [
    {
     "data": {
      "text/plain": [
       "['FlowBytes/s']"
      ]
     },
     "execution_count": 24,
     "metadata": {},
     "output_type": "execute_result"
    }
   ],
   "source": [
    "[col for col in dataset if dataset[col].isnull().values.any()]"
   ]
  },
  {
   "cell_type": "code",
   "execution_count": 25,
   "metadata": {
    "hidden": true
   },
   "outputs": [
    {
     "data": {
      "text/plain": [
       "334"
      ]
     },
     "execution_count": 25,
     "metadata": {},
     "output_type": "execute_result"
    }
   ],
   "source": [
    "dataset['FlowBytes/s'].isnull().sum()"
   ]
  },
  {
   "cell_type": "code",
   "execution_count": 26,
   "metadata": {
    "hidden": true
   },
   "outputs": [
    {
     "data": {
      "text/plain": [
       "0.013760751617197316"
      ]
     },
     "execution_count": 26,
     "metadata": {},
     "output_type": "execute_result"
    }
   ],
   "source": [
    "334/dataset.shape[0]*100"
   ]
  },
  {
   "cell_type": "code",
   "execution_count": 27,
   "metadata": {
    "hidden": true,
    "scrolled": true
   },
   "outputs": [
    {
     "data": {
      "text/plain": [
       "334"
      ]
     },
     "execution_count": 27,
     "metadata": {},
     "output_type": "execute_result"
    }
   ],
   "source": [
    "before = dataset.shape\n",
    "\n",
    "dataset.dropna(inplace=True)\n",
    "\n",
    "after = dataset.shape\n",
    "\n",
    "before[0] - after[0]"
   ]
  },
  {
   "cell_type": "code",
   "execution_count": 28,
   "metadata": {
    "hidden": true,
    "scrolled": true
   },
   "outputs": [
    {
     "data": {
      "text/plain": [
       "False"
      ]
     },
     "execution_count": 28,
     "metadata": {},
     "output_type": "execute_result"
    }
   ],
   "source": [
    "dataset.isnull().any().any()"
   ]
  },
  {
   "cell_type": "markdown",
   "metadata": {
    "heading_collapsed": true,
    "hidden": true
   },
   "source": [
    "## Removing *non-finite* values"
   ]
  },
  {
   "cell_type": "code",
   "execution_count": 29,
   "metadata": {},
   "outputs": [
    {
     "data": {
      "text/html": [
       "<div>\n",
       "<style scoped>\n",
       "    .dataframe tbody tr th:only-of-type {\n",
       "        vertical-align: middle;\n",
       "    }\n",
       "\n",
       "    .dataframe tbody tr th {\n",
       "        vertical-align: top;\n",
       "    }\n",
       "\n",
       "    .dataframe thead th {\n",
       "        text-align: right;\n",
       "    }\n",
       "</style>\n",
       "<table border=\"1\" class=\"dataframe\">\n",
       "  <thead>\n",
       "    <tr style=\"text-align: right;\">\n",
       "      <th></th>\n",
       "      <th>DestinationPort</th>\n",
       "      <th>FlowDuration</th>\n",
       "      <th>TotalFwdPackets</th>\n",
       "      <th>TotalBackwardPackets</th>\n",
       "      <th>TotalLengthofFwdPackets</th>\n",
       "      <th>TotalLengthofBwdPackets</th>\n",
       "      <th>FwdPacketLengthMax</th>\n",
       "      <th>FwdPacketLengthMin</th>\n",
       "      <th>FwdPacketLengthMean</th>\n",
       "      <th>FwdPacketLengthStd</th>\n",
       "      <th>...</th>\n",
       "      <th>min_seg_size_forward</th>\n",
       "      <th>ActiveMean</th>\n",
       "      <th>ActiveStd</th>\n",
       "      <th>ActiveMax</th>\n",
       "      <th>ActiveMin</th>\n",
       "      <th>IdleMean</th>\n",
       "      <th>IdleStd</th>\n",
       "      <th>IdleMax</th>\n",
       "      <th>IdleMin</th>\n",
       "      <th>Label</th>\n",
       "    </tr>\n",
       "  </thead>\n",
       "  <tbody>\n",
       "    <tr>\n",
       "      <th>0</th>\n",
       "      <td>54865</td>\n",
       "      <td>3</td>\n",
       "      <td>2</td>\n",
       "      <td>0</td>\n",
       "      <td>12</td>\n",
       "      <td>0</td>\n",
       "      <td>6</td>\n",
       "      <td>6</td>\n",
       "      <td>6.0</td>\n",
       "      <td>0.00000</td>\n",
       "      <td>...</td>\n",
       "      <td>20</td>\n",
       "      <td>0.0</td>\n",
       "      <td>0.0</td>\n",
       "      <td>0</td>\n",
       "      <td>0</td>\n",
       "      <td>0.0</td>\n",
       "      <td>0.0</td>\n",
       "      <td>0</td>\n",
       "      <td>0</td>\n",
       "      <td>BENIGN</td>\n",
       "    </tr>\n",
       "    <tr>\n",
       "      <th>1</th>\n",
       "      <td>55054</td>\n",
       "      <td>109</td>\n",
       "      <td>1</td>\n",
       "      <td>1</td>\n",
       "      <td>6</td>\n",
       "      <td>6</td>\n",
       "      <td>6</td>\n",
       "      <td>6</td>\n",
       "      <td>6.0</td>\n",
       "      <td>0.00000</td>\n",
       "      <td>...</td>\n",
       "      <td>20</td>\n",
       "      <td>0.0</td>\n",
       "      <td>0.0</td>\n",
       "      <td>0</td>\n",
       "      <td>0</td>\n",
       "      <td>0.0</td>\n",
       "      <td>0.0</td>\n",
       "      <td>0</td>\n",
       "      <td>0</td>\n",
       "      <td>BENIGN</td>\n",
       "    </tr>\n",
       "    <tr>\n",
       "      <th>2</th>\n",
       "      <td>55055</td>\n",
       "      <td>52</td>\n",
       "      <td>1</td>\n",
       "      <td>1</td>\n",
       "      <td>6</td>\n",
       "      <td>6</td>\n",
       "      <td>6</td>\n",
       "      <td>6</td>\n",
       "      <td>6.0</td>\n",
       "      <td>0.00000</td>\n",
       "      <td>...</td>\n",
       "      <td>20</td>\n",
       "      <td>0.0</td>\n",
       "      <td>0.0</td>\n",
       "      <td>0</td>\n",
       "      <td>0</td>\n",
       "      <td>0.0</td>\n",
       "      <td>0.0</td>\n",
       "      <td>0</td>\n",
       "      <td>0</td>\n",
       "      <td>BENIGN</td>\n",
       "    </tr>\n",
       "    <tr>\n",
       "      <th>3</th>\n",
       "      <td>46236</td>\n",
       "      <td>34</td>\n",
       "      <td>1</td>\n",
       "      <td>1</td>\n",
       "      <td>6</td>\n",
       "      <td>6</td>\n",
       "      <td>6</td>\n",
       "      <td>6</td>\n",
       "      <td>6.0</td>\n",
       "      <td>0.00000</td>\n",
       "      <td>...</td>\n",
       "      <td>20</td>\n",
       "      <td>0.0</td>\n",
       "      <td>0.0</td>\n",
       "      <td>0</td>\n",
       "      <td>0</td>\n",
       "      <td>0.0</td>\n",
       "      <td>0.0</td>\n",
       "      <td>0</td>\n",
       "      <td>0</td>\n",
       "      <td>BENIGN</td>\n",
       "    </tr>\n",
       "    <tr>\n",
       "      <th>4</th>\n",
       "      <td>54863</td>\n",
       "      <td>3</td>\n",
       "      <td>2</td>\n",
       "      <td>0</td>\n",
       "      <td>12</td>\n",
       "      <td>0</td>\n",
       "      <td>6</td>\n",
       "      <td>6</td>\n",
       "      <td>6.0</td>\n",
       "      <td>0.00000</td>\n",
       "      <td>...</td>\n",
       "      <td>20</td>\n",
       "      <td>0.0</td>\n",
       "      <td>0.0</td>\n",
       "      <td>0</td>\n",
       "      <td>0</td>\n",
       "      <td>0.0</td>\n",
       "      <td>0.0</td>\n",
       "      <td>0</td>\n",
       "      <td>0</td>\n",
       "      <td>BENIGN</td>\n",
       "    </tr>\n",
       "    <tr>\n",
       "      <th>...</th>\n",
       "      <td>...</td>\n",
       "      <td>...</td>\n",
       "      <td>...</td>\n",
       "      <td>...</td>\n",
       "      <td>...</td>\n",
       "      <td>...</td>\n",
       "      <td>...</td>\n",
       "      <td>...</td>\n",
       "      <td>...</td>\n",
       "      <td>...</td>\n",
       "      <td>...</td>\n",
       "      <td>...</td>\n",
       "      <td>...</td>\n",
       "      <td>...</td>\n",
       "      <td>...</td>\n",
       "      <td>...</td>\n",
       "      <td>...</td>\n",
       "      <td>...</td>\n",
       "      <td>...</td>\n",
       "      <td>...</td>\n",
       "      <td>...</td>\n",
       "    </tr>\n",
       "    <tr>\n",
       "      <th>2427188</th>\n",
       "      <td>53</td>\n",
       "      <td>32215</td>\n",
       "      <td>4</td>\n",
       "      <td>2</td>\n",
       "      <td>112</td>\n",
       "      <td>152</td>\n",
       "      <td>28</td>\n",
       "      <td>28</td>\n",
       "      <td>28.0</td>\n",
       "      <td>0.00000</td>\n",
       "      <td>...</td>\n",
       "      <td>20</td>\n",
       "      <td>0.0</td>\n",
       "      <td>0.0</td>\n",
       "      <td>0</td>\n",
       "      <td>0</td>\n",
       "      <td>0.0</td>\n",
       "      <td>0.0</td>\n",
       "      <td>0</td>\n",
       "      <td>0</td>\n",
       "      <td>BENIGN</td>\n",
       "    </tr>\n",
       "    <tr>\n",
       "      <th>2427189</th>\n",
       "      <td>53</td>\n",
       "      <td>324</td>\n",
       "      <td>2</td>\n",
       "      <td>2</td>\n",
       "      <td>84</td>\n",
       "      <td>362</td>\n",
       "      <td>42</td>\n",
       "      <td>42</td>\n",
       "      <td>42.0</td>\n",
       "      <td>0.00000</td>\n",
       "      <td>...</td>\n",
       "      <td>20</td>\n",
       "      <td>0.0</td>\n",
       "      <td>0.0</td>\n",
       "      <td>0</td>\n",
       "      <td>0</td>\n",
       "      <td>0.0</td>\n",
       "      <td>0.0</td>\n",
       "      <td>0</td>\n",
       "      <td>0</td>\n",
       "      <td>BENIGN</td>\n",
       "    </tr>\n",
       "    <tr>\n",
       "      <th>2427190</th>\n",
       "      <td>58030</td>\n",
       "      <td>82</td>\n",
       "      <td>2</td>\n",
       "      <td>1</td>\n",
       "      <td>31</td>\n",
       "      <td>6</td>\n",
       "      <td>31</td>\n",
       "      <td>0</td>\n",
       "      <td>15.5</td>\n",
       "      <td>21.92031</td>\n",
       "      <td>...</td>\n",
       "      <td>32</td>\n",
       "      <td>0.0</td>\n",
       "      <td>0.0</td>\n",
       "      <td>0</td>\n",
       "      <td>0</td>\n",
       "      <td>0.0</td>\n",
       "      <td>0.0</td>\n",
       "      <td>0</td>\n",
       "      <td>0</td>\n",
       "      <td>BENIGN</td>\n",
       "    </tr>\n",
       "    <tr>\n",
       "      <th>2427191</th>\n",
       "      <td>53</td>\n",
       "      <td>1048635</td>\n",
       "      <td>6</td>\n",
       "      <td>2</td>\n",
       "      <td>192</td>\n",
       "      <td>256</td>\n",
       "      <td>32</td>\n",
       "      <td>32</td>\n",
       "      <td>32.0</td>\n",
       "      <td>0.00000</td>\n",
       "      <td>...</td>\n",
       "      <td>20</td>\n",
       "      <td>0.0</td>\n",
       "      <td>0.0</td>\n",
       "      <td>0</td>\n",
       "      <td>0</td>\n",
       "      <td>0.0</td>\n",
       "      <td>0.0</td>\n",
       "      <td>0</td>\n",
       "      <td>0</td>\n",
       "      <td>BENIGN</td>\n",
       "    </tr>\n",
       "    <tr>\n",
       "      <th>2427192</th>\n",
       "      <td>53</td>\n",
       "      <td>94939</td>\n",
       "      <td>4</td>\n",
       "      <td>2</td>\n",
       "      <td>188</td>\n",
       "      <td>226</td>\n",
       "      <td>47</td>\n",
       "      <td>47</td>\n",
       "      <td>47.0</td>\n",
       "      <td>0.00000</td>\n",
       "      <td>...</td>\n",
       "      <td>20</td>\n",
       "      <td>0.0</td>\n",
       "      <td>0.0</td>\n",
       "      <td>0</td>\n",
       "      <td>0</td>\n",
       "      <td>0.0</td>\n",
       "      <td>0.0</td>\n",
       "      <td>0</td>\n",
       "      <td>0</td>\n",
       "      <td>BENIGN</td>\n",
       "    </tr>\n",
       "  </tbody>\n",
       "</table>\n",
       "<p>2426859 rows × 79 columns</p>\n",
       "</div>"
      ],
      "text/plain": [
       "         DestinationPort  FlowDuration  TotalFwdPackets  TotalBackwardPackets  \\\n",
       "0                  54865             3                2                     0   \n",
       "1                  55054           109                1                     1   \n",
       "2                  55055            52                1                     1   \n",
       "3                  46236            34                1                     1   \n",
       "4                  54863             3                2                     0   \n",
       "...                  ...           ...              ...                   ...   \n",
       "2427188               53         32215                4                     2   \n",
       "2427189               53           324                2                     2   \n",
       "2427190            58030            82                2                     1   \n",
       "2427191               53       1048635                6                     2   \n",
       "2427192               53         94939                4                     2   \n",
       "\n",
       "         TotalLengthofFwdPackets  TotalLengthofBwdPackets  FwdPacketLengthMax  \\\n",
       "0                             12                        0                   6   \n",
       "1                              6                        6                   6   \n",
       "2                              6                        6                   6   \n",
       "3                              6                        6                   6   \n",
       "4                             12                        0                   6   \n",
       "...                          ...                      ...                 ...   \n",
       "2427188                      112                      152                  28   \n",
       "2427189                       84                      362                  42   \n",
       "2427190                       31                        6                  31   \n",
       "2427191                      192                      256                  32   \n",
       "2427192                      188                      226                  47   \n",
       "\n",
       "         FwdPacketLengthMin  FwdPacketLengthMean  FwdPacketLengthStd  ...  \\\n",
       "0                         6                  6.0             0.00000  ...   \n",
       "1                         6                  6.0             0.00000  ...   \n",
       "2                         6                  6.0             0.00000  ...   \n",
       "3                         6                  6.0             0.00000  ...   \n",
       "4                         6                  6.0             0.00000  ...   \n",
       "...                     ...                  ...                 ...  ...   \n",
       "2427188                  28                 28.0             0.00000  ...   \n",
       "2427189                  42                 42.0             0.00000  ...   \n",
       "2427190                   0                 15.5            21.92031  ...   \n",
       "2427191                  32                 32.0             0.00000  ...   \n",
       "2427192                  47                 47.0             0.00000  ...   \n",
       "\n",
       "         min_seg_size_forward  ActiveMean  ActiveStd  ActiveMax  ActiveMin  \\\n",
       "0                          20         0.0        0.0          0          0   \n",
       "1                          20         0.0        0.0          0          0   \n",
       "2                          20         0.0        0.0          0          0   \n",
       "3                          20         0.0        0.0          0          0   \n",
       "4                          20         0.0        0.0          0          0   \n",
       "...                       ...         ...        ...        ...        ...   \n",
       "2427188                    20         0.0        0.0          0          0   \n",
       "2427189                    20         0.0        0.0          0          0   \n",
       "2427190                    32         0.0        0.0          0          0   \n",
       "2427191                    20         0.0        0.0          0          0   \n",
       "2427192                    20         0.0        0.0          0          0   \n",
       "\n",
       "         IdleMean  IdleStd  IdleMax  IdleMin   Label  \n",
       "0             0.0      0.0        0        0  BENIGN  \n",
       "1             0.0      0.0        0        0  BENIGN  \n",
       "2             0.0      0.0        0        0  BENIGN  \n",
       "3             0.0      0.0        0        0  BENIGN  \n",
       "4             0.0      0.0        0        0  BENIGN  \n",
       "...           ...      ...      ...      ...     ...  \n",
       "2427188       0.0      0.0        0        0  BENIGN  \n",
       "2427189       0.0      0.0        0        0  BENIGN  \n",
       "2427190       0.0      0.0        0        0  BENIGN  \n",
       "2427191       0.0      0.0        0        0  BENIGN  \n",
       "2427192       0.0      0.0        0        0  BENIGN  \n",
       "\n",
       "[2426859 rows x 79 columns]"
      ]
     },
     "execution_count": 29,
     "metadata": {},
     "output_type": "execute_result"
    }
   ],
   "source": [
    "dataset"
   ]
  },
  {
   "cell_type": "code",
   "execution_count": 30,
   "metadata": {},
   "outputs": [
    {
     "data": {
      "text/plain": [
       "(2426859, 79)"
      ]
     },
     "execution_count": 30,
     "metadata": {},
     "output_type": "execute_result"
    }
   ],
   "source": [
    "dataset.shape"
   ]
  },
  {
   "cell_type": "code",
   "execution_count": 31,
   "metadata": {
    "hidden": true
   },
   "outputs": [
    {
     "name": "stdout",
     "output_type": "stream",
     "text": [
      "(1264359, 79)\n"
     ]
    }
   ],
   "source": [
    "dataset = dataset.convert_dtypes()\n",
    "dataset = dataset[dataset.select_dtypes(include=[np.number]).ge(0).all(1)]\n",
    "print(dataset.shape)\n",
    "labl = dataset['Label']\n",
    "dataset = dataset.loc[:, dataset.columns != 'Label'] #.astype('float64')"
   ]
  },
  {
   "cell_type": "code",
   "execution_count": 32,
   "metadata": {},
   "outputs": [
    {
     "data": {
      "text/html": [
       "<div>\n",
       "<style scoped>\n",
       "    .dataframe tbody tr th:only-of-type {\n",
       "        vertical-align: middle;\n",
       "    }\n",
       "\n",
       "    .dataframe tbody tr th {\n",
       "        vertical-align: top;\n",
       "    }\n",
       "\n",
       "    .dataframe thead th {\n",
       "        text-align: right;\n",
       "    }\n",
       "</style>\n",
       "<table border=\"1\" class=\"dataframe\">\n",
       "  <thead>\n",
       "    <tr style=\"text-align: right;\">\n",
       "      <th></th>\n",
       "      <th>DestinationPort</th>\n",
       "      <th>FlowDuration</th>\n",
       "      <th>TotalFwdPackets</th>\n",
       "      <th>TotalBackwardPackets</th>\n",
       "      <th>TotalLengthofFwdPackets</th>\n",
       "      <th>TotalLengthofBwdPackets</th>\n",
       "      <th>FwdPacketLengthMax</th>\n",
       "      <th>FwdPacketLengthMin</th>\n",
       "      <th>FwdPacketLengthMean</th>\n",
       "      <th>FwdPacketLengthStd</th>\n",
       "      <th>...</th>\n",
       "      <th>act_data_pkt_fwd</th>\n",
       "      <th>min_seg_size_forward</th>\n",
       "      <th>ActiveMean</th>\n",
       "      <th>ActiveStd</th>\n",
       "      <th>ActiveMax</th>\n",
       "      <th>ActiveMin</th>\n",
       "      <th>IdleMean</th>\n",
       "      <th>IdleStd</th>\n",
       "      <th>IdleMax</th>\n",
       "      <th>IdleMin</th>\n",
       "    </tr>\n",
       "  </thead>\n",
       "  <tbody>\n",
       "    <tr>\n",
       "      <th>1</th>\n",
       "      <td>55054</td>\n",
       "      <td>109</td>\n",
       "      <td>1</td>\n",
       "      <td>1</td>\n",
       "      <td>6</td>\n",
       "      <td>6</td>\n",
       "      <td>6</td>\n",
       "      <td>6</td>\n",
       "      <td>6.0</td>\n",
       "      <td>0.0</td>\n",
       "      <td>...</td>\n",
       "      <td>0</td>\n",
       "      <td>20</td>\n",
       "      <td>0.0</td>\n",
       "      <td>0.0</td>\n",
       "      <td>0</td>\n",
       "      <td>0</td>\n",
       "      <td>0.0</td>\n",
       "      <td>0.0</td>\n",
       "      <td>0</td>\n",
       "      <td>0</td>\n",
       "    </tr>\n",
       "    <tr>\n",
       "      <th>2</th>\n",
       "      <td>55055</td>\n",
       "      <td>52</td>\n",
       "      <td>1</td>\n",
       "      <td>1</td>\n",
       "      <td>6</td>\n",
       "      <td>6</td>\n",
       "      <td>6</td>\n",
       "      <td>6</td>\n",
       "      <td>6.0</td>\n",
       "      <td>0.0</td>\n",
       "      <td>...</td>\n",
       "      <td>0</td>\n",
       "      <td>20</td>\n",
       "      <td>0.0</td>\n",
       "      <td>0.0</td>\n",
       "      <td>0</td>\n",
       "      <td>0</td>\n",
       "      <td>0.0</td>\n",
       "      <td>0.0</td>\n",
       "      <td>0</td>\n",
       "      <td>0</td>\n",
       "    </tr>\n",
       "    <tr>\n",
       "      <th>3</th>\n",
       "      <td>46236</td>\n",
       "      <td>34</td>\n",
       "      <td>1</td>\n",
       "      <td>1</td>\n",
       "      <td>6</td>\n",
       "      <td>6</td>\n",
       "      <td>6</td>\n",
       "      <td>6</td>\n",
       "      <td>6.0</td>\n",
       "      <td>0.0</td>\n",
       "      <td>...</td>\n",
       "      <td>0</td>\n",
       "      <td>20</td>\n",
       "      <td>0.0</td>\n",
       "      <td>0.0</td>\n",
       "      <td>0</td>\n",
       "      <td>0</td>\n",
       "      <td>0.0</td>\n",
       "      <td>0.0</td>\n",
       "      <td>0</td>\n",
       "      <td>0</td>\n",
       "    </tr>\n",
       "    <tr>\n",
       "      <th>7</th>\n",
       "      <td>54925</td>\n",
       "      <td>42</td>\n",
       "      <td>1</td>\n",
       "      <td>1</td>\n",
       "      <td>6</td>\n",
       "      <td>6</td>\n",
       "      <td>6</td>\n",
       "      <td>6</td>\n",
       "      <td>6.0</td>\n",
       "      <td>0.0</td>\n",
       "      <td>...</td>\n",
       "      <td>0</td>\n",
       "      <td>20</td>\n",
       "      <td>0.0</td>\n",
       "      <td>0.0</td>\n",
       "      <td>0</td>\n",
       "      <td>0</td>\n",
       "      <td>0.0</td>\n",
       "      <td>0.0</td>\n",
       "      <td>0</td>\n",
       "      <td>0</td>\n",
       "    </tr>\n",
       "    <tr>\n",
       "      <th>14</th>\n",
       "      <td>36206</td>\n",
       "      <td>54</td>\n",
       "      <td>1</td>\n",
       "      <td>1</td>\n",
       "      <td>0</td>\n",
       "      <td>0</td>\n",
       "      <td>0</td>\n",
       "      <td>0</td>\n",
       "      <td>0.0</td>\n",
       "      <td>0.0</td>\n",
       "      <td>...</td>\n",
       "      <td>0</td>\n",
       "      <td>32</td>\n",
       "      <td>0.0</td>\n",
       "      <td>0.0</td>\n",
       "      <td>0</td>\n",
       "      <td>0</td>\n",
       "      <td>0.0</td>\n",
       "      <td>0.0</td>\n",
       "      <td>0</td>\n",
       "      <td>0</td>\n",
       "    </tr>\n",
       "    <tr>\n",
       "      <th>...</th>\n",
       "      <td>...</td>\n",
       "      <td>...</td>\n",
       "      <td>...</td>\n",
       "      <td>...</td>\n",
       "      <td>...</td>\n",
       "      <td>...</td>\n",
       "      <td>...</td>\n",
       "      <td>...</td>\n",
       "      <td>...</td>\n",
       "      <td>...</td>\n",
       "      <td>...</td>\n",
       "      <td>...</td>\n",
       "      <td>...</td>\n",
       "      <td>...</td>\n",
       "      <td>...</td>\n",
       "      <td>...</td>\n",
       "      <td>...</td>\n",
       "      <td>...</td>\n",
       "      <td>...</td>\n",
       "      <td>...</td>\n",
       "      <td>...</td>\n",
       "    </tr>\n",
       "    <tr>\n",
       "      <th>2427182</th>\n",
       "      <td>443</td>\n",
       "      <td>392</td>\n",
       "      <td>3</td>\n",
       "      <td>1</td>\n",
       "      <td>18</td>\n",
       "      <td>6</td>\n",
       "      <td>6</td>\n",
       "      <td>6</td>\n",
       "      <td>6.0</td>\n",
       "      <td>0.0</td>\n",
       "      <td>...</td>\n",
       "      <td>2</td>\n",
       "      <td>20</td>\n",
       "      <td>0.0</td>\n",
       "      <td>0.0</td>\n",
       "      <td>0</td>\n",
       "      <td>0</td>\n",
       "      <td>0.0</td>\n",
       "      <td>0.0</td>\n",
       "      <td>0</td>\n",
       "      <td>0</td>\n",
       "    </tr>\n",
       "    <tr>\n",
       "      <th>2427184</th>\n",
       "      <td>35450</td>\n",
       "      <td>33</td>\n",
       "      <td>1</td>\n",
       "      <td>1</td>\n",
       "      <td>0</td>\n",
       "      <td>0</td>\n",
       "      <td>0</td>\n",
       "      <td>0</td>\n",
       "      <td>0.0</td>\n",
       "      <td>0.0</td>\n",
       "      <td>...</td>\n",
       "      <td>0</td>\n",
       "      <td>32</td>\n",
       "      <td>0.0</td>\n",
       "      <td>0.0</td>\n",
       "      <td>0</td>\n",
       "      <td>0</td>\n",
       "      <td>0.0</td>\n",
       "      <td>0.0</td>\n",
       "      <td>0</td>\n",
       "      <td>0</td>\n",
       "    </tr>\n",
       "    <tr>\n",
       "      <th>2427186</th>\n",
       "      <td>80</td>\n",
       "      <td>11512230</td>\n",
       "      <td>5</td>\n",
       "      <td>5</td>\n",
       "      <td>672</td>\n",
       "      <td>3525</td>\n",
       "      <td>672</td>\n",
       "      <td>0</td>\n",
       "      <td>134.4</td>\n",
       "      <td>300.527536</td>\n",
       "      <td>...</td>\n",
       "      <td>1</td>\n",
       "      <td>32</td>\n",
       "      <td>821.0</td>\n",
       "      <td>0.0</td>\n",
       "      <td>821</td>\n",
       "      <td>821</td>\n",
       "      <td>6506213.0</td>\n",
       "      <td>0.0</td>\n",
       "      <td>6506213</td>\n",
       "      <td>6506213</td>\n",
       "    </tr>\n",
       "    <tr>\n",
       "      <th>2427187</th>\n",
       "      <td>49346</td>\n",
       "      <td>145</td>\n",
       "      <td>1</td>\n",
       "      <td>1</td>\n",
       "      <td>0</td>\n",
       "      <td>0</td>\n",
       "      <td>0</td>\n",
       "      <td>0</td>\n",
       "      <td>0.0</td>\n",
       "      <td>0.0</td>\n",
       "      <td>...</td>\n",
       "      <td>0</td>\n",
       "      <td>32</td>\n",
       "      <td>0.0</td>\n",
       "      <td>0.0</td>\n",
       "      <td>0</td>\n",
       "      <td>0</td>\n",
       "      <td>0.0</td>\n",
       "      <td>0.0</td>\n",
       "      <td>0</td>\n",
       "      <td>0</td>\n",
       "    </tr>\n",
       "    <tr>\n",
       "      <th>2427190</th>\n",
       "      <td>58030</td>\n",
       "      <td>82</td>\n",
       "      <td>2</td>\n",
       "      <td>1</td>\n",
       "      <td>31</td>\n",
       "      <td>6</td>\n",
       "      <td>31</td>\n",
       "      <td>0</td>\n",
       "      <td>15.5</td>\n",
       "      <td>21.92031</td>\n",
       "      <td>...</td>\n",
       "      <td>0</td>\n",
       "      <td>32</td>\n",
       "      <td>0.0</td>\n",
       "      <td>0.0</td>\n",
       "      <td>0</td>\n",
       "      <td>0</td>\n",
       "      <td>0.0</td>\n",
       "      <td>0.0</td>\n",
       "      <td>0</td>\n",
       "      <td>0</td>\n",
       "    </tr>\n",
       "  </tbody>\n",
       "</table>\n",
       "<p>1264359 rows × 78 columns</p>\n",
       "</div>"
      ],
      "text/plain": [
       "         DestinationPort  FlowDuration  TotalFwdPackets  TotalBackwardPackets  \\\n",
       "1                  55054           109                1                     1   \n",
       "2                  55055            52                1                     1   \n",
       "3                  46236            34                1                     1   \n",
       "7                  54925            42                1                     1   \n",
       "14                 36206            54                1                     1   \n",
       "...                  ...           ...              ...                   ...   \n",
       "2427182              443           392                3                     1   \n",
       "2427184            35450            33                1                     1   \n",
       "2427186               80      11512230                5                     5   \n",
       "2427187            49346           145                1                     1   \n",
       "2427190            58030            82                2                     1   \n",
       "\n",
       "         TotalLengthofFwdPackets  TotalLengthofBwdPackets  FwdPacketLengthMax  \\\n",
       "1                              6                        6                   6   \n",
       "2                              6                        6                   6   \n",
       "3                              6                        6                   6   \n",
       "7                              6                        6                   6   \n",
       "14                             0                        0                   0   \n",
       "...                          ...                      ...                 ...   \n",
       "2427182                       18                        6                   6   \n",
       "2427184                        0                        0                   0   \n",
       "2427186                      672                     3525                 672   \n",
       "2427187                        0                        0                   0   \n",
       "2427190                       31                        6                  31   \n",
       "\n",
       "         FwdPacketLengthMin  FwdPacketLengthMean  FwdPacketLengthStd  ...  \\\n",
       "1                         6                  6.0                 0.0  ...   \n",
       "2                         6                  6.0                 0.0  ...   \n",
       "3                         6                  6.0                 0.0  ...   \n",
       "7                         6                  6.0                 0.0  ...   \n",
       "14                        0                  0.0                 0.0  ...   \n",
       "...                     ...                  ...                 ...  ...   \n",
       "2427182                   6                  6.0                 0.0  ...   \n",
       "2427184                   0                  0.0                 0.0  ...   \n",
       "2427186                   0                134.4          300.527536  ...   \n",
       "2427187                   0                  0.0                 0.0  ...   \n",
       "2427190                   0                 15.5            21.92031  ...   \n",
       "\n",
       "         act_data_pkt_fwd  min_seg_size_forward  ActiveMean  ActiveStd  \\\n",
       "1                       0                    20         0.0        0.0   \n",
       "2                       0                    20         0.0        0.0   \n",
       "3                       0                    20         0.0        0.0   \n",
       "7                       0                    20         0.0        0.0   \n",
       "14                      0                    32         0.0        0.0   \n",
       "...                   ...                   ...         ...        ...   \n",
       "2427182                 2                    20         0.0        0.0   \n",
       "2427184                 0                    32         0.0        0.0   \n",
       "2427186                 1                    32       821.0        0.0   \n",
       "2427187                 0                    32         0.0        0.0   \n",
       "2427190                 0                    32         0.0        0.0   \n",
       "\n",
       "         ActiveMax  ActiveMin   IdleMean  IdleStd  IdleMax  IdleMin  \n",
       "1                0          0        0.0      0.0        0        0  \n",
       "2                0          0        0.0      0.0        0        0  \n",
       "3                0          0        0.0      0.0        0        0  \n",
       "7                0          0        0.0      0.0        0        0  \n",
       "14               0          0        0.0      0.0        0        0  \n",
       "...            ...        ...        ...      ...      ...      ...  \n",
       "2427182          0          0        0.0      0.0        0        0  \n",
       "2427184          0          0        0.0      0.0        0        0  \n",
       "2427186        821        821  6506213.0      0.0  6506213  6506213  \n",
       "2427187          0          0        0.0      0.0        0        0  \n",
       "2427190          0          0        0.0      0.0        0        0  \n",
       "\n",
       "[1264359 rows x 78 columns]"
      ]
     },
     "execution_count": 32,
     "metadata": {},
     "output_type": "execute_result"
    }
   ],
   "source": [
    "dataset"
   ]
  },
  {
   "cell_type": "code",
   "execution_count": 33,
   "metadata": {
    "hidden": true
   },
   "outputs": [
    {
     "data": {
      "text/plain": [
       "False"
      ]
     },
     "execution_count": 33,
     "metadata": {},
     "output_type": "execute_result"
    }
   ],
   "source": [
    "np.all(np.isfinite(dataset))"
   ]
  },
  {
   "cell_type": "code",
   "execution_count": 34,
   "metadata": {
    "hidden": true
   },
   "outputs": [
    {
     "data": {
      "text/plain": [
       "['FlowBytes/s', 'FlowPackets/s']"
      ]
     },
     "execution_count": 34,
     "metadata": {},
     "output_type": "execute_result"
    }
   ],
   "source": [
    "nonfinite = [col for col in dataset if not np.all(np.isfinite(dataset[col]))]\n",
    "\n",
    "nonfinite"
   ]
  },
  {
   "cell_type": "code",
   "execution_count": 35,
   "metadata": {
    "hidden": true
   },
   "outputs": [
    {
     "data": {
      "text/plain": [
       "613"
      ]
     },
     "execution_count": 35,
     "metadata": {},
     "output_type": "execute_result"
    }
   ],
   "source": [
    "\n",
    "finite = np.isfinite(dataset['FlowBytes/s']).sum()\n",
    "\n",
    "dataset.shape[0] - finite"
   ]
  },
  {
   "cell_type": "code",
   "execution_count": 36,
   "metadata": {
    "hidden": true
   },
   "outputs": [
    {
     "data": {
      "text/plain": [
       "613"
      ]
     },
     "execution_count": 36,
     "metadata": {},
     "output_type": "execute_result"
    }
   ],
   "source": [
    "finite = np.isfinite(dataset['FlowPackets/s']).sum()\n",
    "\n",
    "dataset.shape[0] - finite"
   ]
  },
  {
   "cell_type": "code",
   "execution_count": 37,
   "metadata": {
    "hidden": true
   },
   "outputs": [],
   "source": [
    "dataset = dataset.replace([np.inf, -np.inf], np.nan)"
   ]
  },
  {
   "cell_type": "code",
   "execution_count": 38,
   "metadata": {
    "hidden": true
   },
   "outputs": [
    {
     "data": {
      "text/plain": [
       "False"
      ]
     },
     "execution_count": 38,
     "metadata": {},
     "output_type": "execute_result"
    }
   ],
   "source": [
    "np.any(np.isnan(dataset))"
   ]
  },
  {
   "cell_type": "code",
   "execution_count": 39,
   "metadata": {
    "hidden": true
   },
   "outputs": [],
   "source": [
    "dataset = dataset.merge(labl, how='outer', left_index=True, right_index=True)"
   ]
  },
  {
   "cell_type": "code",
   "execution_count": 40,
   "metadata": {
    "hidden": true
   },
   "outputs": [],
   "source": [
    "dataset.dropna(inplace=True)"
   ]
  },
  {
   "cell_type": "code",
   "execution_count": 41,
   "metadata": {
    "hidden": true,
    "scrolled": true
   },
   "outputs": [
    {
     "data": {
      "text/plain": [
       "(1263746, 79)"
      ]
     },
     "execution_count": 41,
     "metadata": {},
     "output_type": "execute_result"
    }
   ],
   "source": [
    "dataset.shape"
   ]
  },
  {
   "cell_type": "code",
   "execution_count": 42,
   "metadata": {
    "hidden": true
   },
   "outputs": [
    {
     "data": {
      "text/html": [
       "<div>\n",
       "<style scoped>\n",
       "    .dataframe tbody tr th:only-of-type {\n",
       "        vertical-align: middle;\n",
       "    }\n",
       "\n",
       "    .dataframe tbody tr th {\n",
       "        vertical-align: top;\n",
       "    }\n",
       "\n",
       "    .dataframe thead th {\n",
       "        text-align: right;\n",
       "    }\n",
       "</style>\n",
       "<table border=\"1\" class=\"dataframe\">\n",
       "  <thead>\n",
       "    <tr style=\"text-align: right;\">\n",
       "      <th></th>\n",
       "      <th>DestinationPort</th>\n",
       "      <th>FlowDuration</th>\n",
       "      <th>TotalFwdPackets</th>\n",
       "      <th>TotalBackwardPackets</th>\n",
       "      <th>TotalLengthofFwdPackets</th>\n",
       "      <th>TotalLengthofBwdPackets</th>\n",
       "      <th>FwdPacketLengthMax</th>\n",
       "      <th>FwdPacketLengthMin</th>\n",
       "      <th>FwdPacketLengthMean</th>\n",
       "      <th>FwdPacketLengthStd</th>\n",
       "      <th>...</th>\n",
       "      <th>min_seg_size_forward</th>\n",
       "      <th>ActiveMean</th>\n",
       "      <th>ActiveStd</th>\n",
       "      <th>ActiveMax</th>\n",
       "      <th>ActiveMin</th>\n",
       "      <th>IdleMean</th>\n",
       "      <th>IdleStd</th>\n",
       "      <th>IdleMax</th>\n",
       "      <th>IdleMin</th>\n",
       "      <th>Label</th>\n",
       "    </tr>\n",
       "  </thead>\n",
       "  <tbody>\n",
       "    <tr>\n",
       "      <th>1</th>\n",
       "      <td>55054</td>\n",
       "      <td>109</td>\n",
       "      <td>1</td>\n",
       "      <td>1</td>\n",
       "      <td>6</td>\n",
       "      <td>6</td>\n",
       "      <td>6</td>\n",
       "      <td>6</td>\n",
       "      <td>6.0</td>\n",
       "      <td>0.0</td>\n",
       "      <td>...</td>\n",
       "      <td>20</td>\n",
       "      <td>0.0</td>\n",
       "      <td>0.0</td>\n",
       "      <td>0</td>\n",
       "      <td>0</td>\n",
       "      <td>0.0</td>\n",
       "      <td>0.0</td>\n",
       "      <td>0</td>\n",
       "      <td>0</td>\n",
       "      <td>BENIGN</td>\n",
       "    </tr>\n",
       "    <tr>\n",
       "      <th>2</th>\n",
       "      <td>55055</td>\n",
       "      <td>52</td>\n",
       "      <td>1</td>\n",
       "      <td>1</td>\n",
       "      <td>6</td>\n",
       "      <td>6</td>\n",
       "      <td>6</td>\n",
       "      <td>6</td>\n",
       "      <td>6.0</td>\n",
       "      <td>0.0</td>\n",
       "      <td>...</td>\n",
       "      <td>20</td>\n",
       "      <td>0.0</td>\n",
       "      <td>0.0</td>\n",
       "      <td>0</td>\n",
       "      <td>0</td>\n",
       "      <td>0.0</td>\n",
       "      <td>0.0</td>\n",
       "      <td>0</td>\n",
       "      <td>0</td>\n",
       "      <td>BENIGN</td>\n",
       "    </tr>\n",
       "    <tr>\n",
       "      <th>3</th>\n",
       "      <td>46236</td>\n",
       "      <td>34</td>\n",
       "      <td>1</td>\n",
       "      <td>1</td>\n",
       "      <td>6</td>\n",
       "      <td>6</td>\n",
       "      <td>6</td>\n",
       "      <td>6</td>\n",
       "      <td>6.0</td>\n",
       "      <td>0.0</td>\n",
       "      <td>...</td>\n",
       "      <td>20</td>\n",
       "      <td>0.0</td>\n",
       "      <td>0.0</td>\n",
       "      <td>0</td>\n",
       "      <td>0</td>\n",
       "      <td>0.0</td>\n",
       "      <td>0.0</td>\n",
       "      <td>0</td>\n",
       "      <td>0</td>\n",
       "      <td>BENIGN</td>\n",
       "    </tr>\n",
       "    <tr>\n",
       "      <th>7</th>\n",
       "      <td>54925</td>\n",
       "      <td>42</td>\n",
       "      <td>1</td>\n",
       "      <td>1</td>\n",
       "      <td>6</td>\n",
       "      <td>6</td>\n",
       "      <td>6</td>\n",
       "      <td>6</td>\n",
       "      <td>6.0</td>\n",
       "      <td>0.0</td>\n",
       "      <td>...</td>\n",
       "      <td>20</td>\n",
       "      <td>0.0</td>\n",
       "      <td>0.0</td>\n",
       "      <td>0</td>\n",
       "      <td>0</td>\n",
       "      <td>0.0</td>\n",
       "      <td>0.0</td>\n",
       "      <td>0</td>\n",
       "      <td>0</td>\n",
       "      <td>BENIGN</td>\n",
       "    </tr>\n",
       "    <tr>\n",
       "      <th>14</th>\n",
       "      <td>36206</td>\n",
       "      <td>54</td>\n",
       "      <td>1</td>\n",
       "      <td>1</td>\n",
       "      <td>0</td>\n",
       "      <td>0</td>\n",
       "      <td>0</td>\n",
       "      <td>0</td>\n",
       "      <td>0.0</td>\n",
       "      <td>0.0</td>\n",
       "      <td>...</td>\n",
       "      <td>32</td>\n",
       "      <td>0.0</td>\n",
       "      <td>0.0</td>\n",
       "      <td>0</td>\n",
       "      <td>0</td>\n",
       "      <td>0.0</td>\n",
       "      <td>0.0</td>\n",
       "      <td>0</td>\n",
       "      <td>0</td>\n",
       "      <td>BENIGN</td>\n",
       "    </tr>\n",
       "  </tbody>\n",
       "</table>\n",
       "<p>5 rows × 79 columns</p>\n",
       "</div>"
      ],
      "text/plain": [
       "    DestinationPort  FlowDuration  TotalFwdPackets  TotalBackwardPackets  \\\n",
       "1             55054           109                1                     1   \n",
       "2             55055            52                1                     1   \n",
       "3             46236            34                1                     1   \n",
       "7             54925            42                1                     1   \n",
       "14            36206            54                1                     1   \n",
       "\n",
       "    TotalLengthofFwdPackets  TotalLengthofBwdPackets  FwdPacketLengthMax  \\\n",
       "1                         6                        6                   6   \n",
       "2                         6                        6                   6   \n",
       "3                         6                        6                   6   \n",
       "7                         6                        6                   6   \n",
       "14                        0                        0                   0   \n",
       "\n",
       "    FwdPacketLengthMin  FwdPacketLengthMean  FwdPacketLengthStd  ...  \\\n",
       "1                    6                  6.0                 0.0  ...   \n",
       "2                    6                  6.0                 0.0  ...   \n",
       "3                    6                  6.0                 0.0  ...   \n",
       "7                    6                  6.0                 0.0  ...   \n",
       "14                   0                  0.0                 0.0  ...   \n",
       "\n",
       "    min_seg_size_forward  ActiveMean  ActiveStd  ActiveMax  ActiveMin  \\\n",
       "1                     20         0.0        0.0          0          0   \n",
       "2                     20         0.0        0.0          0          0   \n",
       "3                     20         0.0        0.0          0          0   \n",
       "7                     20         0.0        0.0          0          0   \n",
       "14                    32         0.0        0.0          0          0   \n",
       "\n",
       "    IdleMean  IdleStd  IdleMax  IdleMin   Label  \n",
       "1        0.0      0.0        0        0  BENIGN  \n",
       "2        0.0      0.0        0        0  BENIGN  \n",
       "3        0.0      0.0        0        0  BENIGN  \n",
       "7        0.0      0.0        0        0  BENIGN  \n",
       "14       0.0      0.0        0        0  BENIGN  \n",
       "\n",
       "[5 rows x 79 columns]"
      ]
     },
     "execution_count": 42,
     "metadata": {},
     "output_type": "execute_result"
    }
   ],
   "source": [
    "dataset.head()"
   ]
  },
  {
   "cell_type": "code",
   "execution_count": 43,
   "metadata": {
    "hidden": true
   },
   "outputs": [],
   "source": [
    "#Saving cleaned dataset.\n",
    "#dataset.to_csv(\"Dataset_clean_dropna.csv\", index=False)"
   ]
  },
  {
   "cell_type": "code",
   "execution_count": 44,
   "metadata": {
    "hidden": true
   },
   "outputs": [],
   "source": [
    "from sklearn.decomposition import PCA"
   ]
  },
  {
   "cell_type": "markdown",
   "metadata": {
    "heading_collapsed": true
   },
   "source": [
    "# Data preparation and Label encoding"
   ]
  },
  {
   "cell_type": "code",
   "execution_count": 45,
   "metadata": {
    "hidden": true
   },
   "outputs": [],
   "source": [
    "# Splitting dataset into features and labels.\n",
    "labels = dataset['Label']\n",
    "lab = LabelEncoder()\n",
    "\n",
    "labels = lab.fit_transform(labels)\n",
    "features = dataset.loc[:, dataset.columns != 'Label'].astype('float64')"
   ]
  },
  {
   "cell_type": "code",
   "execution_count": 46,
   "metadata": {
    "hidden": true,
    "scrolled": true
   },
   "outputs": [
    {
     "data": {
      "text/html": [
       "<div>\n",
       "<style scoped>\n",
       "    .dataframe tbody tr th:only-of-type {\n",
       "        vertical-align: middle;\n",
       "    }\n",
       "\n",
       "    .dataframe tbody tr th {\n",
       "        vertical-align: top;\n",
       "    }\n",
       "\n",
       "    .dataframe thead th {\n",
       "        text-align: right;\n",
       "    }\n",
       "</style>\n",
       "<table border=\"1\" class=\"dataframe\">\n",
       "  <thead>\n",
       "    <tr style=\"text-align: right;\">\n",
       "      <th></th>\n",
       "      <th>DestinationPort</th>\n",
       "      <th>FlowDuration</th>\n",
       "      <th>TotalFwdPackets</th>\n",
       "      <th>TotalBackwardPackets</th>\n",
       "      <th>TotalLengthofFwdPackets</th>\n",
       "      <th>TotalLengthofBwdPackets</th>\n",
       "      <th>FwdPacketLengthMax</th>\n",
       "      <th>FwdPacketLengthMin</th>\n",
       "      <th>FwdPacketLengthMean</th>\n",
       "      <th>FwdPacketLengthStd</th>\n",
       "      <th>...</th>\n",
       "      <th>act_data_pkt_fwd</th>\n",
       "      <th>min_seg_size_forward</th>\n",
       "      <th>ActiveMean</th>\n",
       "      <th>ActiveStd</th>\n",
       "      <th>ActiveMax</th>\n",
       "      <th>ActiveMin</th>\n",
       "      <th>IdleMean</th>\n",
       "      <th>IdleStd</th>\n",
       "      <th>IdleMax</th>\n",
       "      <th>IdleMin</th>\n",
       "    </tr>\n",
       "  </thead>\n",
       "  <tbody>\n",
       "    <tr>\n",
       "      <th>1</th>\n",
       "      <td>55054.0</td>\n",
       "      <td>109.0</td>\n",
       "      <td>1.0</td>\n",
       "      <td>1.0</td>\n",
       "      <td>6.0</td>\n",
       "      <td>6.0</td>\n",
       "      <td>6.0</td>\n",
       "      <td>6.0</td>\n",
       "      <td>6.0</td>\n",
       "      <td>0.0</td>\n",
       "      <td>...</td>\n",
       "      <td>0.0</td>\n",
       "      <td>20.0</td>\n",
       "      <td>0.0</td>\n",
       "      <td>0.0</td>\n",
       "      <td>0.0</td>\n",
       "      <td>0.0</td>\n",
       "      <td>0.0</td>\n",
       "      <td>0.0</td>\n",
       "      <td>0.0</td>\n",
       "      <td>0.0</td>\n",
       "    </tr>\n",
       "    <tr>\n",
       "      <th>2</th>\n",
       "      <td>55055.0</td>\n",
       "      <td>52.0</td>\n",
       "      <td>1.0</td>\n",
       "      <td>1.0</td>\n",
       "      <td>6.0</td>\n",
       "      <td>6.0</td>\n",
       "      <td>6.0</td>\n",
       "      <td>6.0</td>\n",
       "      <td>6.0</td>\n",
       "      <td>0.0</td>\n",
       "      <td>...</td>\n",
       "      <td>0.0</td>\n",
       "      <td>20.0</td>\n",
       "      <td>0.0</td>\n",
       "      <td>0.0</td>\n",
       "      <td>0.0</td>\n",
       "      <td>0.0</td>\n",
       "      <td>0.0</td>\n",
       "      <td>0.0</td>\n",
       "      <td>0.0</td>\n",
       "      <td>0.0</td>\n",
       "    </tr>\n",
       "    <tr>\n",
       "      <th>3</th>\n",
       "      <td>46236.0</td>\n",
       "      <td>34.0</td>\n",
       "      <td>1.0</td>\n",
       "      <td>1.0</td>\n",
       "      <td>6.0</td>\n",
       "      <td>6.0</td>\n",
       "      <td>6.0</td>\n",
       "      <td>6.0</td>\n",
       "      <td>6.0</td>\n",
       "      <td>0.0</td>\n",
       "      <td>...</td>\n",
       "      <td>0.0</td>\n",
       "      <td>20.0</td>\n",
       "      <td>0.0</td>\n",
       "      <td>0.0</td>\n",
       "      <td>0.0</td>\n",
       "      <td>0.0</td>\n",
       "      <td>0.0</td>\n",
       "      <td>0.0</td>\n",
       "      <td>0.0</td>\n",
       "      <td>0.0</td>\n",
       "    </tr>\n",
       "    <tr>\n",
       "      <th>7</th>\n",
       "      <td>54925.0</td>\n",
       "      <td>42.0</td>\n",
       "      <td>1.0</td>\n",
       "      <td>1.0</td>\n",
       "      <td>6.0</td>\n",
       "      <td>6.0</td>\n",
       "      <td>6.0</td>\n",
       "      <td>6.0</td>\n",
       "      <td>6.0</td>\n",
       "      <td>0.0</td>\n",
       "      <td>...</td>\n",
       "      <td>0.0</td>\n",
       "      <td>20.0</td>\n",
       "      <td>0.0</td>\n",
       "      <td>0.0</td>\n",
       "      <td>0.0</td>\n",
       "      <td>0.0</td>\n",
       "      <td>0.0</td>\n",
       "      <td>0.0</td>\n",
       "      <td>0.0</td>\n",
       "      <td>0.0</td>\n",
       "    </tr>\n",
       "    <tr>\n",
       "      <th>14</th>\n",
       "      <td>36206.0</td>\n",
       "      <td>54.0</td>\n",
       "      <td>1.0</td>\n",
       "      <td>1.0</td>\n",
       "      <td>0.0</td>\n",
       "      <td>0.0</td>\n",
       "      <td>0.0</td>\n",
       "      <td>0.0</td>\n",
       "      <td>0.0</td>\n",
       "      <td>0.0</td>\n",
       "      <td>...</td>\n",
       "      <td>0.0</td>\n",
       "      <td>32.0</td>\n",
       "      <td>0.0</td>\n",
       "      <td>0.0</td>\n",
       "      <td>0.0</td>\n",
       "      <td>0.0</td>\n",
       "      <td>0.0</td>\n",
       "      <td>0.0</td>\n",
       "      <td>0.0</td>\n",
       "      <td>0.0</td>\n",
       "    </tr>\n",
       "  </tbody>\n",
       "</table>\n",
       "<p>5 rows × 78 columns</p>\n",
       "</div>"
      ],
      "text/plain": [
       "    DestinationPort  FlowDuration  TotalFwdPackets  TotalBackwardPackets  \\\n",
       "1           55054.0         109.0              1.0                   1.0   \n",
       "2           55055.0          52.0              1.0                   1.0   \n",
       "3           46236.0          34.0              1.0                   1.0   \n",
       "7           54925.0          42.0              1.0                   1.0   \n",
       "14          36206.0          54.0              1.0                   1.0   \n",
       "\n",
       "    TotalLengthofFwdPackets  TotalLengthofBwdPackets  FwdPacketLengthMax  \\\n",
       "1                       6.0                      6.0                 6.0   \n",
       "2                       6.0                      6.0                 6.0   \n",
       "3                       6.0                      6.0                 6.0   \n",
       "7                       6.0                      6.0                 6.0   \n",
       "14                      0.0                      0.0                 0.0   \n",
       "\n",
       "    FwdPacketLengthMin  FwdPacketLengthMean  FwdPacketLengthStd  ...  \\\n",
       "1                  6.0                  6.0                 0.0  ...   \n",
       "2                  6.0                  6.0                 0.0  ...   \n",
       "3                  6.0                  6.0                 0.0  ...   \n",
       "7                  6.0                  6.0                 0.0  ...   \n",
       "14                 0.0                  0.0                 0.0  ...   \n",
       "\n",
       "    act_data_pkt_fwd  min_seg_size_forward  ActiveMean  ActiveStd  ActiveMax  \\\n",
       "1                0.0                  20.0         0.0        0.0        0.0   \n",
       "2                0.0                  20.0         0.0        0.0        0.0   \n",
       "3                0.0                  20.0         0.0        0.0        0.0   \n",
       "7                0.0                  20.0         0.0        0.0        0.0   \n",
       "14               0.0                  32.0         0.0        0.0        0.0   \n",
       "\n",
       "    ActiveMin  IdleMean  IdleStd  IdleMax  IdleMin  \n",
       "1         0.0       0.0      0.0      0.0      0.0  \n",
       "2         0.0       0.0      0.0      0.0      0.0  \n",
       "3         0.0       0.0      0.0      0.0      0.0  \n",
       "7         0.0       0.0      0.0      0.0      0.0  \n",
       "14        0.0       0.0      0.0      0.0      0.0  \n",
       "\n",
       "[5 rows x 78 columns]"
      ]
     },
     "execution_count": 46,
     "metadata": {},
     "output_type": "execute_result"
    }
   ],
   "source": [
    "features.head()"
   ]
  },
  {
   "cell_type": "code",
   "execution_count": 47,
   "metadata": {},
   "outputs": [
    {
     "data": {
      "text/plain": [
       "array([0, 0, 0, ..., 3, 0, 0])"
      ]
     },
     "execution_count": 47,
     "metadata": {},
     "output_type": "execute_result"
    }
   ],
   "source": [
    "labels"
   ]
  },
  {
   "cell_type": "markdown",
   "metadata": {},
   "source": [
    "# Transform data to normal dist"
   ]
  },
  {
   "cell_type": "code",
   "execution_count": 48,
   "metadata": {},
   "outputs": [],
   "source": [
    "from scipy import stats"
   ]
  },
  {
   "cell_type": "code",
   "execution_count": 49,
   "metadata": {},
   "outputs": [],
   "source": [
    "for col in list(features.columns):\n",
    "    features[col] = stats.zscore(features[col])\n",
    "    features[col] = features[col].fillna(0)\n",
    "#mean=0 and standard deviation = 1 "
   ]
  },
  {
   "cell_type": "code",
   "execution_count": 50,
   "metadata": {},
   "outputs": [
    {
     "data": {
      "text/html": [
       "<div>\n",
       "<style scoped>\n",
       "    .dataframe tbody tr th:only-of-type {\n",
       "        vertical-align: middle;\n",
       "    }\n",
       "\n",
       "    .dataframe tbody tr th {\n",
       "        vertical-align: top;\n",
       "    }\n",
       "\n",
       "    .dataframe thead th {\n",
       "        text-align: right;\n",
       "    }\n",
       "</style>\n",
       "<table border=\"1\" class=\"dataframe\">\n",
       "  <thead>\n",
       "    <tr style=\"text-align: right;\">\n",
       "      <th></th>\n",
       "      <th>DestinationPort</th>\n",
       "      <th>FlowDuration</th>\n",
       "      <th>TotalFwdPackets</th>\n",
       "      <th>TotalBackwardPackets</th>\n",
       "      <th>TotalLengthofFwdPackets</th>\n",
       "      <th>TotalLengthofBwdPackets</th>\n",
       "      <th>FwdPacketLengthMax</th>\n",
       "      <th>FwdPacketLengthMin</th>\n",
       "      <th>FwdPacketLengthMean</th>\n",
       "      <th>FwdPacketLengthStd</th>\n",
       "      <th>...</th>\n",
       "      <th>act_data_pkt_fwd</th>\n",
       "      <th>min_seg_size_forward</th>\n",
       "      <th>ActiveMean</th>\n",
       "      <th>ActiveStd</th>\n",
       "      <th>ActiveMax</th>\n",
       "      <th>ActiveMin</th>\n",
       "      <th>IdleMean</th>\n",
       "      <th>IdleStd</th>\n",
       "      <th>IdleMax</th>\n",
       "      <th>IdleMin</th>\n",
       "    </tr>\n",
       "  </thead>\n",
       "  <tbody>\n",
       "    <tr>\n",
       "      <th>1</th>\n",
       "      <td>2.034291</td>\n",
       "      <td>-0.684430</td>\n",
       "      <td>-0.081977</td>\n",
       "      <td>-0.064453</td>\n",
       "      <td>-0.079805</td>\n",
       "      <td>-0.031443</td>\n",
       "      <td>-0.401710</td>\n",
       "      <td>0.014410</td>\n",
       "      <td>-0.313843</td>\n",
       "      <td>-0.371026</td>\n",
       "      <td>...</td>\n",
       "      <td>-0.051941</td>\n",
       "      <td>-0.889054</td>\n",
       "      <td>-0.179604</td>\n",
       "      <td>-0.157954</td>\n",
       "      <td>-0.222216</td>\n",
       "      <td>-0.139633</td>\n",
       "      <td>-0.516429</td>\n",
       "      <td>-0.155354</td>\n",
       "      <td>-0.524695</td>\n",
       "      <td>-0.493937</td>\n",
       "    </tr>\n",
       "    <tr>\n",
       "      <th>2</th>\n",
       "      <td>2.034338</td>\n",
       "      <td>-0.684431</td>\n",
       "      <td>-0.081977</td>\n",
       "      <td>-0.064453</td>\n",
       "      <td>-0.079805</td>\n",
       "      <td>-0.031443</td>\n",
       "      <td>-0.401710</td>\n",
       "      <td>0.014410</td>\n",
       "      <td>-0.313843</td>\n",
       "      <td>-0.371026</td>\n",
       "      <td>...</td>\n",
       "      <td>-0.051941</td>\n",
       "      <td>-0.889054</td>\n",
       "      <td>-0.179604</td>\n",
       "      <td>-0.157954</td>\n",
       "      <td>-0.222216</td>\n",
       "      <td>-0.139633</td>\n",
       "      <td>-0.516429</td>\n",
       "      <td>-0.155354</td>\n",
       "      <td>-0.524695</td>\n",
       "      <td>-0.493937</td>\n",
       "    </tr>\n",
       "    <tr>\n",
       "      <th>3</th>\n",
       "      <td>1.620232</td>\n",
       "      <td>-0.684432</td>\n",
       "      <td>-0.081977</td>\n",
       "      <td>-0.064453</td>\n",
       "      <td>-0.079805</td>\n",
       "      <td>-0.031443</td>\n",
       "      <td>-0.401710</td>\n",
       "      <td>0.014410</td>\n",
       "      <td>-0.313843</td>\n",
       "      <td>-0.371026</td>\n",
       "      <td>...</td>\n",
       "      <td>-0.051941</td>\n",
       "      <td>-0.889054</td>\n",
       "      <td>-0.179604</td>\n",
       "      <td>-0.157954</td>\n",
       "      <td>-0.222216</td>\n",
       "      <td>-0.139633</td>\n",
       "      <td>-0.516429</td>\n",
       "      <td>-0.155354</td>\n",
       "      <td>-0.524695</td>\n",
       "      <td>-0.493937</td>\n",
       "    </tr>\n",
       "    <tr>\n",
       "      <th>7</th>\n",
       "      <td>2.028234</td>\n",
       "      <td>-0.684432</td>\n",
       "      <td>-0.081977</td>\n",
       "      <td>-0.064453</td>\n",
       "      <td>-0.079805</td>\n",
       "      <td>-0.031443</td>\n",
       "      <td>-0.401710</td>\n",
       "      <td>0.014410</td>\n",
       "      <td>-0.313843</td>\n",
       "      <td>-0.371026</td>\n",
       "      <td>...</td>\n",
       "      <td>-0.051941</td>\n",
       "      <td>-0.889054</td>\n",
       "      <td>-0.179604</td>\n",
       "      <td>-0.157954</td>\n",
       "      <td>-0.222216</td>\n",
       "      <td>-0.139633</td>\n",
       "      <td>-0.516429</td>\n",
       "      <td>-0.155354</td>\n",
       "      <td>-0.524695</td>\n",
       "      <td>-0.493937</td>\n",
       "    </tr>\n",
       "    <tr>\n",
       "      <th>14</th>\n",
       "      <td>1.149262</td>\n",
       "      <td>-0.684431</td>\n",
       "      <td>-0.081977</td>\n",
       "      <td>-0.064453</td>\n",
       "      <td>-0.080246</td>\n",
       "      <td>-0.031459</td>\n",
       "      <td>-0.407542</td>\n",
       "      <td>-0.068053</td>\n",
       "      <td>-0.336198</td>\n",
       "      <td>-0.371026</td>\n",
       "      <td>...</td>\n",
       "      <td>-0.051941</td>\n",
       "      <td>1.058026</td>\n",
       "      <td>-0.179604</td>\n",
       "      <td>-0.157954</td>\n",
       "      <td>-0.222216</td>\n",
       "      <td>-0.139633</td>\n",
       "      <td>-0.516429</td>\n",
       "      <td>-0.155354</td>\n",
       "      <td>-0.524695</td>\n",
       "      <td>-0.493937</td>\n",
       "    </tr>\n",
       "    <tr>\n",
       "      <th>...</th>\n",
       "      <td>...</td>\n",
       "      <td>...</td>\n",
       "      <td>...</td>\n",
       "      <td>...</td>\n",
       "      <td>...</td>\n",
       "      <td>...</td>\n",
       "      <td>...</td>\n",
       "      <td>...</td>\n",
       "      <td>...</td>\n",
       "      <td>...</td>\n",
       "      <td>...</td>\n",
       "      <td>...</td>\n",
       "      <td>...</td>\n",
       "      <td>...</td>\n",
       "      <td>...</td>\n",
       "      <td>...</td>\n",
       "      <td>...</td>\n",
       "      <td>...</td>\n",
       "      <td>...</td>\n",
       "      <td>...</td>\n",
       "      <td>...</td>\n",
       "    </tr>\n",
       "    <tr>\n",
       "      <th>2427182</th>\n",
       "      <td>-0.530029</td>\n",
       "      <td>-0.684424</td>\n",
       "      <td>-0.063936</td>\n",
       "      <td>-0.064453</td>\n",
       "      <td>-0.078923</td>\n",
       "      <td>-0.031443</td>\n",
       "      <td>-0.401710</td>\n",
       "      <td>0.014410</td>\n",
       "      <td>-0.313843</td>\n",
       "      <td>-0.371026</td>\n",
       "      <td>...</td>\n",
       "      <td>-0.032248</td>\n",
       "      <td>-0.889054</td>\n",
       "      <td>-0.179604</td>\n",
       "      <td>-0.157954</td>\n",
       "      <td>-0.222216</td>\n",
       "      <td>-0.139633</td>\n",
       "      <td>-0.516429</td>\n",
       "      <td>-0.155354</td>\n",
       "      <td>-0.524695</td>\n",
       "      <td>-0.493937</td>\n",
       "    </tr>\n",
       "    <tr>\n",
       "      <th>2427184</th>\n",
       "      <td>1.113763</td>\n",
       "      <td>-0.684432</td>\n",
       "      <td>-0.081977</td>\n",
       "      <td>-0.064453</td>\n",
       "      <td>-0.080246</td>\n",
       "      <td>-0.031459</td>\n",
       "      <td>-0.407542</td>\n",
       "      <td>-0.068053</td>\n",
       "      <td>-0.336198</td>\n",
       "      <td>-0.371026</td>\n",
       "      <td>...</td>\n",
       "      <td>-0.051941</td>\n",
       "      <td>1.058026</td>\n",
       "      <td>-0.179604</td>\n",
       "      <td>-0.157954</td>\n",
       "      <td>-0.222216</td>\n",
       "      <td>-0.139633</td>\n",
       "      <td>-0.516429</td>\n",
       "      <td>-0.155354</td>\n",
       "      <td>-0.524695</td>\n",
       "      <td>-0.493937</td>\n",
       "    </tr>\n",
       "    <tr>\n",
       "      <th>2427186</th>\n",
       "      <td>-0.547074</td>\n",
       "      <td>-0.420581</td>\n",
       "      <td>-0.045896</td>\n",
       "      <td>-0.038436</td>\n",
       "      <td>-0.030874</td>\n",
       "      <td>-0.022045</td>\n",
       "      <td>0.245612</td>\n",
       "      <td>-0.068053</td>\n",
       "      <td>0.164538</td>\n",
       "      <td>0.374240</td>\n",
       "      <td>...</td>\n",
       "      <td>-0.042094</td>\n",
       "      <td>1.058026</td>\n",
       "      <td>-0.178583</td>\n",
       "      <td>-0.157954</td>\n",
       "      <td>-0.221592</td>\n",
       "      <td>-0.138478</td>\n",
       "      <td>-0.307997</td>\n",
       "      <td>-0.155354</td>\n",
       "      <td>-0.322477</td>\n",
       "      <td>-0.284056</td>\n",
       "    </tr>\n",
       "    <tr>\n",
       "      <th>2427187</th>\n",
       "      <td>1.766266</td>\n",
       "      <td>-0.684429</td>\n",
       "      <td>-0.081977</td>\n",
       "      <td>-0.064453</td>\n",
       "      <td>-0.080246</td>\n",
       "      <td>-0.031459</td>\n",
       "      <td>-0.407542</td>\n",
       "      <td>-0.068053</td>\n",
       "      <td>-0.336198</td>\n",
       "      <td>-0.371026</td>\n",
       "      <td>...</td>\n",
       "      <td>-0.051941</td>\n",
       "      <td>1.058026</td>\n",
       "      <td>-0.179604</td>\n",
       "      <td>-0.157954</td>\n",
       "      <td>-0.222216</td>\n",
       "      <td>-0.139633</td>\n",
       "      <td>-0.516429</td>\n",
       "      <td>-0.155354</td>\n",
       "      <td>-0.524695</td>\n",
       "      <td>-0.493937</td>\n",
       "    </tr>\n",
       "    <tr>\n",
       "      <th>2427190</th>\n",
       "      <td>2.174033</td>\n",
       "      <td>-0.684431</td>\n",
       "      <td>-0.072957</td>\n",
       "      <td>-0.064453</td>\n",
       "      <td>-0.077968</td>\n",
       "      <td>-0.031443</td>\n",
       "      <td>-0.377411</td>\n",
       "      <td>-0.068053</td>\n",
       "      <td>-0.278449</td>\n",
       "      <td>-0.316667</td>\n",
       "      <td>...</td>\n",
       "      <td>-0.051941</td>\n",
       "      <td>1.058026</td>\n",
       "      <td>-0.179604</td>\n",
       "      <td>-0.157954</td>\n",
       "      <td>-0.222216</td>\n",
       "      <td>-0.139633</td>\n",
       "      <td>-0.516429</td>\n",
       "      <td>-0.155354</td>\n",
       "      <td>-0.524695</td>\n",
       "      <td>-0.493937</td>\n",
       "    </tr>\n",
       "  </tbody>\n",
       "</table>\n",
       "<p>1263746 rows × 78 columns</p>\n",
       "</div>"
      ],
      "text/plain": [
       "         DestinationPort  FlowDuration  TotalFwdPackets  TotalBackwardPackets  \\\n",
       "1               2.034291     -0.684430        -0.081977             -0.064453   \n",
       "2               2.034338     -0.684431        -0.081977             -0.064453   \n",
       "3               1.620232     -0.684432        -0.081977             -0.064453   \n",
       "7               2.028234     -0.684432        -0.081977             -0.064453   \n",
       "14              1.149262     -0.684431        -0.081977             -0.064453   \n",
       "...                  ...           ...              ...                   ...   \n",
       "2427182        -0.530029     -0.684424        -0.063936             -0.064453   \n",
       "2427184         1.113763     -0.684432        -0.081977             -0.064453   \n",
       "2427186        -0.547074     -0.420581        -0.045896             -0.038436   \n",
       "2427187         1.766266     -0.684429        -0.081977             -0.064453   \n",
       "2427190         2.174033     -0.684431        -0.072957             -0.064453   \n",
       "\n",
       "         TotalLengthofFwdPackets  TotalLengthofBwdPackets  FwdPacketLengthMax  \\\n",
       "1                      -0.079805                -0.031443           -0.401710   \n",
       "2                      -0.079805                -0.031443           -0.401710   \n",
       "3                      -0.079805                -0.031443           -0.401710   \n",
       "7                      -0.079805                -0.031443           -0.401710   \n",
       "14                     -0.080246                -0.031459           -0.407542   \n",
       "...                          ...                      ...                 ...   \n",
       "2427182                -0.078923                -0.031443           -0.401710   \n",
       "2427184                -0.080246                -0.031459           -0.407542   \n",
       "2427186                -0.030874                -0.022045            0.245612   \n",
       "2427187                -0.080246                -0.031459           -0.407542   \n",
       "2427190                -0.077968                -0.031443           -0.377411   \n",
       "\n",
       "         FwdPacketLengthMin  FwdPacketLengthMean  FwdPacketLengthStd  ...  \\\n",
       "1                  0.014410            -0.313843           -0.371026  ...   \n",
       "2                  0.014410            -0.313843           -0.371026  ...   \n",
       "3                  0.014410            -0.313843           -0.371026  ...   \n",
       "7                  0.014410            -0.313843           -0.371026  ...   \n",
       "14                -0.068053            -0.336198           -0.371026  ...   \n",
       "...                     ...                  ...                 ...  ...   \n",
       "2427182            0.014410            -0.313843           -0.371026  ...   \n",
       "2427184           -0.068053            -0.336198           -0.371026  ...   \n",
       "2427186           -0.068053             0.164538            0.374240  ...   \n",
       "2427187           -0.068053            -0.336198           -0.371026  ...   \n",
       "2427190           -0.068053            -0.278449           -0.316667  ...   \n",
       "\n",
       "         act_data_pkt_fwd  min_seg_size_forward  ActiveMean  ActiveStd  \\\n",
       "1               -0.051941             -0.889054   -0.179604  -0.157954   \n",
       "2               -0.051941             -0.889054   -0.179604  -0.157954   \n",
       "3               -0.051941             -0.889054   -0.179604  -0.157954   \n",
       "7               -0.051941             -0.889054   -0.179604  -0.157954   \n",
       "14              -0.051941              1.058026   -0.179604  -0.157954   \n",
       "...                   ...                   ...         ...        ...   \n",
       "2427182         -0.032248             -0.889054   -0.179604  -0.157954   \n",
       "2427184         -0.051941              1.058026   -0.179604  -0.157954   \n",
       "2427186         -0.042094              1.058026   -0.178583  -0.157954   \n",
       "2427187         -0.051941              1.058026   -0.179604  -0.157954   \n",
       "2427190         -0.051941              1.058026   -0.179604  -0.157954   \n",
       "\n",
       "         ActiveMax  ActiveMin  IdleMean   IdleStd   IdleMax   IdleMin  \n",
       "1        -0.222216  -0.139633 -0.516429 -0.155354 -0.524695 -0.493937  \n",
       "2        -0.222216  -0.139633 -0.516429 -0.155354 -0.524695 -0.493937  \n",
       "3        -0.222216  -0.139633 -0.516429 -0.155354 -0.524695 -0.493937  \n",
       "7        -0.222216  -0.139633 -0.516429 -0.155354 -0.524695 -0.493937  \n",
       "14       -0.222216  -0.139633 -0.516429 -0.155354 -0.524695 -0.493937  \n",
       "...            ...        ...       ...       ...       ...       ...  \n",
       "2427182  -0.222216  -0.139633 -0.516429 -0.155354 -0.524695 -0.493937  \n",
       "2427184  -0.222216  -0.139633 -0.516429 -0.155354 -0.524695 -0.493937  \n",
       "2427186  -0.221592  -0.138478 -0.307997 -0.155354 -0.322477 -0.284056  \n",
       "2427187  -0.222216  -0.139633 -0.516429 -0.155354 -0.524695 -0.493937  \n",
       "2427190  -0.222216  -0.139633 -0.516429 -0.155354 -0.524695 -0.493937  \n",
       "\n",
       "[1263746 rows x 78 columns]"
      ]
     },
     "execution_count": 50,
     "metadata": {},
     "output_type": "execute_result"
    }
   ],
   "source": [
    "features"
   ]
  },
  {
   "cell_type": "code",
   "execution_count": 51,
   "metadata": {
    "hidden": true
   },
   "outputs": [],
   "source": [
    "# Scaling of data\n",
    "from sklearn.preprocessing import MinMaxScaler"
   ]
  },
  {
   "cell_type": "code",
   "execution_count": 52,
   "metadata": {
    "hidden": true,
    "scrolled": false
   },
   "outputs": [],
   "source": [
    "list_1 = np.array(features, dtype='float64')\n",
    "scaler_1 = MinMaxScaler()\n",
    "features = scaler_1.fit_transform(list_1)"
   ]
  },
  {
   "cell_type": "code",
   "execution_count": 58,
   "metadata": {},
   "outputs": [
    {
     "data": {
      "text/plain": [
       "array([[8.40067751e-01, 9.00000022e-07, 0.00000000e+00, ...,\n",
       "        0.00000000e+00, 0.00000000e+00, 0.00000000e+00],\n",
       "       [8.40083010e-01, 4.25000011e-07, 0.00000000e+00, ...,\n",
       "        0.00000000e+00, 0.00000000e+00, 0.00000000e+00],\n",
       "       [7.05511643e-01, 2.75000007e-07, 0.00000000e+00, ...,\n",
       "        0.00000000e+00, 0.00000000e+00, 0.00000000e+00],\n",
       "       ...,\n",
       "       [1.20548112e-03, 9.59352441e-02, 3.56696986e-05, ...,\n",
       "        0.00000000e+00, 5.42184417e-02, 5.42184417e-02],\n",
       "       [7.52967925e-01, 1.20000003e-06, 0.00000000e+00, ...,\n",
       "        0.00000000e+00, 0.00000000e+00, 0.00000000e+00],\n",
       "       [8.85479293e-01, 6.75000017e-07, 8.91742465e-06, ...,\n",
       "        0.00000000e+00, 0.00000000e+00, 0.00000000e+00]])"
      ]
     },
     "execution_count": 58,
     "metadata": {},
     "output_type": "execute_result"
    }
   ],
   "source": [
    "features"
   ]
  },
  {
   "cell_type": "markdown",
   "metadata": {},
   "source": [
    "# Select K-Best Features"
   ]
  },
  {
   "cell_type": "code",
   "execution_count": 59,
   "metadata": {},
   "outputs": [],
   "source": [
    "from sklearn.feature_selection import SelectKBest, chi2"
   ]
  },
  {
   "cell_type": "code",
   "execution_count": 60,
   "metadata": {},
   "outputs": [],
   "source": [
    "features = SelectKBest(chi2, k=50).fit_transform(features, labels)"
   ]
  },
  {
   "cell_type": "code",
   "execution_count": 61,
   "metadata": {},
   "outputs": [
    {
     "data": {
      "text/plain": [
       "(1263746, 50)"
      ]
     },
     "execution_count": 61,
     "metadata": {},
     "output_type": "execute_result"
    }
   ],
   "source": [
    "features.shape"
   ]
  },
  {
   "cell_type": "markdown",
   "metadata": {
    "heading_collapsed": true,
    "hidden": true
   },
   "source": [
    "# Splitting the data"
   ]
  },
  {
   "cell_type": "code",
   "execution_count": 62,
   "metadata": {
    "hidden": true
   },
   "outputs": [],
   "source": [
    "from sklearn.model_selection import train_test_split"
   ]
  },
  {
   "cell_type": "code",
   "execution_count": 63,
   "metadata": {
    "hidden": true,
    "scrolled": false
   },
   "outputs": [],
   "source": [
    "features, labels = shuffle(features, labels)"
   ]
  },
  {
   "cell_type": "code",
   "execution_count": 64,
   "metadata": {},
   "outputs": [
    {
     "data": {
      "text/plain": [
       "array([[6.74459059e-03, 3.12240391e-01, 2.21192587e-02, ...,\n",
       "        0.00000000e+00, 3.10833333e-01, 3.10833333e-01],\n",
       "       [9.11694693e-01, 1.84325005e-04, 0.00000000e+00, ...,\n",
       "        0.00000000e+00, 0.00000000e+00, 0.00000000e+00],\n",
       "       [6.74459059e-03, 2.59057906e-01, 1.69621273e-02, ...,\n",
       "        2.57826529e-03, 8.34290667e-02, 8.05860667e-02],\n",
       "       ...,\n",
       "       [6.74459059e-03, 2.90643341e-03, 8.62207897e-03, ...,\n",
       "        0.00000000e+00, 0.00000000e+00, 0.00000000e+00],\n",
       "       [8.74248482e-01, 8.25000021e-07, 8.05801773e-05, ...,\n",
       "        0.00000000e+00, 0.00000000e+00, 0.00000000e+00],\n",
       "       [6.06555376e-01, 1.25000003e-07, 0.00000000e+00, ...,\n",
       "        0.00000000e+00, 0.00000000e+00, 0.00000000e+00]])"
      ]
     },
     "execution_count": 64,
     "metadata": {},
     "output_type": "execute_result"
    }
   ],
   "source": [
    "features"
   ]
  },
  {
   "cell_type": "code",
   "execution_count": 65,
   "metadata": {},
   "outputs": [
    {
     "data": {
      "text/plain": [
       "array([ 0,  1,  2,  3,  4,  5,  6,  7,  8,  9, 10, 11, 12, 13, 14])"
      ]
     },
     "execution_count": 65,
     "metadata": {},
     "output_type": "execute_result"
    }
   ],
   "source": [
    "np.unique(labels)"
   ]
  },
  {
   "cell_type": "code",
   "execution_count": 66,
   "metadata": {},
   "outputs": [],
   "source": [
    "features_train, features_test, labels_train, labels_test = train_test_split(features, labels, test_size=.2)"
   ]
  },
  {
   "cell_type": "code",
   "execution_count": 67,
   "metadata": {
    "hidden": true
   },
   "outputs": [],
   "source": [
    "# Clearing variables.\n",
    "\n",
    "dataset = None\n",
    "finite = None\n",
    "labl = None\n",
    "d = None\n",
    "features = None\n",
    "labels = None"
   ]
  },
  {
   "cell_type": "code",
   "execution_count": 68,
   "metadata": {},
   "outputs": [
    {
     "name": "stdout",
     "output_type": "stream",
     "text": [
      "Requirement already satisfied: seaborn in c:\\programdata\\anaconda3\\lib\\site-packages (0.11.2)\n",
      "Requirement already satisfied: pandas>=0.23 in c:\\programdata\\anaconda3\\lib\\site-packages (from seaborn) (1.4.3)\n",
      "Requirement already satisfied: scipy>=1.0 in c:\\programdata\\anaconda3\\lib\\site-packages (from seaborn) (1.7.1)\n",
      "Requirement already satisfied: matplotlib>=2.2 in c:\\programdata\\anaconda3\\lib\\site-packages (from seaborn) (3.4.3)\n",
      "Requirement already satisfied: numpy>=1.15 in c:\\programdata\\anaconda3\\lib\\site-packages (from seaborn) (1.20.3)\n",
      "Requirement already satisfied: pillow>=6.2.0 in c:\\programdata\\anaconda3\\lib\\site-packages (from matplotlib>=2.2->seaborn) (8.4.0)\n",
      "Requirement already satisfied: python-dateutil>=2.7 in c:\\programdata\\anaconda3\\lib\\site-packages (from matplotlib>=2.2->seaborn) (2.8.2)\n",
      "Requirement already satisfied: cycler>=0.10 in c:\\programdata\\anaconda3\\lib\\site-packages (from matplotlib>=2.2->seaborn) (0.10.0)\n",
      "Requirement already satisfied: pyparsing>=2.2.1 in c:\\programdata\\anaconda3\\lib\\site-packages (from matplotlib>=2.2->seaborn) (3.0.4)\n",
      "Requirement already satisfied: kiwisolver>=1.0.1 in c:\\programdata\\anaconda3\\lib\\site-packages (from matplotlib>=2.2->seaborn) (1.3.1)\n",
      "Requirement already satisfied: six in c:\\programdata\\anaconda3\\lib\\site-packages (from cycler>=0.10->matplotlib>=2.2->seaborn) (1.16.0)\n",
      "Requirement already satisfied: pytz>=2020.1 in c:\\programdata\\anaconda3\\lib\\site-packages (from pandas>=0.23->seaborn) (2021.3)\n",
      "Requirement already satisfied: matplotlib in c:\\programdata\\anaconda3\\lib\\site-packages (3.4.3)\n",
      "Requirement already satisfied: numpy>=1.16 in c:\\programdata\\anaconda3\\lib\\site-packages (from matplotlib) (1.20.3)\n",
      "Requirement already satisfied: pillow>=6.2.0 in c:\\programdata\\anaconda3\\lib\\site-packages (from matplotlib) (8.4.0)\n",
      "Requirement already satisfied: kiwisolver>=1.0.1 in c:\\programdata\\anaconda3\\lib\\site-packages (from matplotlib) (1.3.1)\n",
      "Requirement already satisfied: python-dateutil>=2.7 in c:\\programdata\\anaconda3\\lib\\site-packages (from matplotlib) (2.8.2)\n",
      "Requirement already satisfied: pyparsing>=2.2.1 in c:\\programdata\\anaconda3\\lib\\site-packages (from matplotlib) (3.0.4)\n",
      "Requirement already satisfied: cycler>=0.10 in c:\\programdata\\anaconda3\\lib\\site-packages (from matplotlib) (0.10.0)\n",
      "Requirement already satisfied: six in c:\\programdata\\anaconda3\\lib\\site-packages (from cycler>=0.10->matplotlib) (1.16.0)\n"
     ]
    }
   ],
   "source": [
    "from sklearn.metrics import confusion_matrix\n",
    "!pip install seaborn\n",
    "import seaborn as sns\n",
    "!pip install matplotlib\n",
    "import matplotlib.pyplot as plt\n",
    "from sklearn.metrics import plot_confusion_matrix\n",
    "from sklearn.metrics import classification_report\n",
    "from sklearn.metrics import accuracy_score"
   ]
  },
  {
   "cell_type": "markdown",
   "metadata": {},
   "source": [
    "# Implementation of Naive Bayes Classifier"
   ]
  },
  {
   "cell_type": "code",
   "execution_count": 69,
   "metadata": {},
   "outputs": [],
   "source": [
    "from sklearn.naive_bayes import MultinomialNB"
   ]
  },
  {
   "cell_type": "code",
   "execution_count": 70,
   "metadata": {},
   "outputs": [],
   "source": [
    "mnb = MultinomialNB()"
   ]
  },
  {
   "cell_type": "code",
   "execution_count": 71,
   "metadata": {},
   "outputs": [
    {
     "data": {
      "text/plain": [
       "MultinomialNB()"
      ]
     },
     "execution_count": 71,
     "metadata": {},
     "output_type": "execute_result"
    }
   ],
   "source": [
    "mnb.fit(features_train, labels_train)"
   ]
  },
  {
   "cell_type": "code",
   "execution_count": 72,
   "metadata": {},
   "outputs": [],
   "source": [
    "y_pred = mnb.predict(features_test)"
   ]
  },
  {
   "cell_type": "code",
   "execution_count": 73,
   "metadata": {},
   "outputs": [
    {
     "name": "stdout",
     "output_type": "stream",
     "text": [
      "Score of Multinomial Naive Bayes classification model is 0.8942749752720079\n"
     ]
    }
   ],
   "source": [
    "print('Score of Multinomial Naive Bayes classification model is {}'.format(accuracy_score(labels_test, y_pred)))"
   ]
  },
  {
   "cell_type": "code",
   "execution_count": 74,
   "metadata": {},
   "outputs": [],
   "source": [
    "cf_matrix = confusion_matrix(labels_test, y_pred)"
   ]
  },
  {
   "cell_type": "code",
   "execution_count": 75,
   "metadata": {},
   "outputs": [
    {
     "data": {
      "text/plain": [
       "array([[183755,      0,    201,      1,   2211,      1,   1158,      0,\n",
       "             0,      0,     47,      0,      0,      0,      0],\n",
       "       [   400,      0,      0,      0,      0,      0,      0,      0,\n",
       "             0,      0,      0,      0,      0,      0,      0],\n",
       "       [    34,      0,  12118,      0,   4056,      0,      0,      0,\n",
       "             0,      0,      0,      0,      0,      0,      0],\n",
       "       [  1113,      0,    334,      8,      0,      0,     77,      0,\n",
       "             0,      0,      0,      0,      0,      0,      0],\n",
       "       [  2010,      0,    965,      0,  29473,      0,      2,      0,\n",
       "             0,      0,      0,      0,      0,      0,      0],\n",
       "       [   225,      0,      0,      0,      0,    228,      2,      0,\n",
       "             0,      0,      0,      0,      0,      0,      0],\n",
       "       [   458,      0,      0,      0,      0,     20,    262,      0,\n",
       "             0,      0,      0,      0,      0,      0,      0],\n",
       "       [  1073,      0,      0,      0,      0,      0,      0,      0,\n",
       "             0,      0,      0,      0,      0,      0,      0],\n",
       "       [     0,      0,      0,      0,      3,      0,      0,      0,\n",
       "             0,      0,      0,      0,      0,      0,      0],\n",
       "       [     4,      0,      0,      0,      0,      1,      1,      0,\n",
       "             0,      0,      0,      0,      0,      0,      0],\n",
       "       [ 11268,      0,      9,      0,      0,      0,     38,      0,\n",
       "             0,      0,    184,      0,      0,      0,      0],\n",
       "       [   599,      0,      0,      0,      0,      0,      0,      0,\n",
       "             0,      0,      0,      0,      0,      0,      0],\n",
       "       [   298,      0,      0,      0,      0,      0,      0,      0,\n",
       "             0,      0,      0,      0,      0,      0,      0],\n",
       "       [     8,      0,      0,      0,      0,      0,      0,      0,\n",
       "             0,      0,      0,      0,      0,      0,      0],\n",
       "       [   105,      0,      0,      0,      0,      0,      0,      0,\n",
       "             0,      0,      0,      0,      0,      0,      0]],\n",
       "      dtype=int64)"
      ]
     },
     "execution_count": 75,
     "metadata": {},
     "output_type": "execute_result"
    }
   ],
   "source": [
    "cf_matrix"
   ]
  },
  {
   "cell_type": "code",
   "execution_count": 76,
   "metadata": {},
   "outputs": [
    {
     "data": {
      "image/png": "[encoded data removed]",
      "text/plain": [
       "<Figure size 720x720 with 2 Axes>"
      ]
     },
     "metadata": {
      "needs_background": "light"
     },
     "output_type": "display_data"
    }
   ],
   "source": [
    "fig, ax = plt.subplots(figsize=(10, 10))\n",
    "plot_confusion_matrix(mnb, features_test, labels_test, ax=ax)\n",
    "plt.show()"
   ]
  },
  {
   "cell_type": "code",
   "execution_count": 77,
   "metadata": {},
   "outputs": [
    {
     "name": "stdout",
     "output_type": "stream",
     "text": [
      "              precision    recall  f1-score   support\n",
      "\n",
      "           0       0.91      0.98      0.95    187374\n",
      "           1       1.00      0.00      0.00       400\n",
      "           2       0.89      0.75      0.81     16208\n",
      "           3       0.89      0.01      0.01      1532\n",
      "           4       0.82      0.91      0.86     32450\n",
      "           5       0.91      0.50      0.65       455\n",
      "           6       0.17      0.35      0.23       740\n",
      "           7       1.00      0.00      0.00      1073\n",
      "           8       1.00      0.00      0.00         3\n",
      "           9       1.00      0.00      0.00         6\n",
      "          10       0.80      0.02      0.03     11499\n",
      "          11       1.00      0.00      0.00       599\n",
      "          12       1.00      0.00      0.00       298\n",
      "          13       1.00      0.00      0.00         8\n",
      "          14       1.00      0.00      0.00       105\n",
      "\n",
      "    accuracy                           0.89    252750\n",
      "   macro avg       0.89      0.23      0.24    252750\n",
      "weighted avg       0.89      0.89      0.87    252750\n",
      "\n"
     ]
    }
   ],
   "source": [
    "print(classification_report(labels_test, y_pred, target_names=labels,zero_division=1))"
   ]
  },
  {
   "cell_type": "markdown",
   "metadata": {},
   "source": [
    "# Implementing Feature extraction using PCA."
   ]
  },
  {
   "cell_type": "code",
   "execution_count": 78,
   "metadata": {},
   "outputs": [
    {
     "name": "stdout",
     "output_type": "stream",
     "text": [
      "0.8554958620259546\n"
     ]
    },
    {
     "data": {
      "text/plain": [
       "((1010996, 5), (252750, 5), (1010996,), (252750,))"
      ]
     },
     "execution_count": 78,
     "metadata": {},
     "output_type": "execute_result"
    }
   ],
   "source": [
    "pca = PCA(n_components = 5)\n",
    "\n",
    "features_train = pca.fit_transform(features_train)\n",
    "\n",
    "print(np.sum(pca.explained_variance_ratio_))\n",
    "\n",
    "features_test = pca.transform(features_test)\n",
    "\n",
    "features_train.shape, features_test.shape, labels_train.shape, labels_test.shape"
   ]
  },
  {
   "cell_type": "code",
   "execution_count": 101,
   "metadata": {},
   "outputs": [
    {
     "name": "stdout",
     "output_type": "stream",
     "text": [
      "['0->BENIGN']\n",
      "['1->Bot']\n",
      "['2->DDoS']\n",
      "['3->DoS_GoldenEye']\n",
      "['4->DoS_Hulk']\n",
      "['5->DoS_Slowhttptest']\n",
      "['6->DoS_slowloris']\n",
      "['7->FTPPatator']\n",
      "['8->Heartbleed']\n",
      "['9->Infiltration']\n",
      "['10->PortScan']\n",
      "['11->SSHPatator']\n",
      "['12->Web_Attack_Brute_Force']\n",
      "['13->Web_Attack_Sql_Injection']\n",
      "['14->Web_Attack_XSS']\n"
     ]
    }
   ],
   "source": [
    "for i in range(15):\n",
    "    print(str(i)+\"->\"+lab.inverse_transform([i]))"
   ]
  },
  {
   "cell_type": "markdown",
   "metadata": {},
   "source": [
    "# Decision Tree Classifier"
   ]
  },
  {
   "cell_type": "code",
   "execution_count": 79,
   "metadata": {},
   "outputs": [],
   "source": [
    "from sklearn.tree import DecisionTreeClassifier "
   ]
  },
  {
   "cell_type": "code",
   "execution_count": 80,
   "metadata": {},
   "outputs": [],
   "source": [
    "clf = DecisionTreeClassifier()\n",
    "\n",
    "# Train Decision Tree Classifer\n",
    "clf = clf.fit(features_train,labels_train)\n",
    "\n",
    "#Predict the response for test dataset\n",
    "y_pred = clf.predict(features_test)"
   ]
  },
  {
   "cell_type": "code",
   "execution_count": 81,
   "metadata": {},
   "outputs": [
    {
     "name": "stdout",
     "output_type": "stream",
     "text": [
      "Score of Decision Tree classification model is 0.9870623145400593\n"
     ]
    }
   ],
   "source": [
    "print('Score of Decision Tree classification model is {}'.format(accuracy_score(labels_test, y_pred)))"
   ]
  },
  {
   "cell_type": "code",
   "execution_count": 82,
   "metadata": {},
   "outputs": [],
   "source": [
    "cf_matrix = confusion_matrix(labels_test, y_pred)"
   ]
  },
  {
   "cell_type": "code",
   "execution_count": 83,
   "metadata": {},
   "outputs": [
    {
     "data": {
      "text/plain": [
       "array([[186003,    108,     24,     64,     48,      6,     10,      1,\n",
       "             0,      4,   1091,      6,      2,      3,      4],\n",
       "       [   108,    292,      0,      0,      0,      0,      0,      0,\n",
       "             0,      0,      0,      0,      0,      0,      0],\n",
       "       [     4,      0,  16084,      0,    120,      0,      0,      0,\n",
       "             0,      0,      0,      0,      0,      0,      0],\n",
       "       [    58,      0,      0,   1471,      1,      2,      0,      0,\n",
       "             0,      0,      0,      0,      0,      0,      0],\n",
       "       [    23,      0,    111,      3,  32311,      0,      0,      0,\n",
       "             0,      0,      2,      0,      0,      0,      0],\n",
       "       [     5,      0,      0,      0,      0,    448,      2,      0,\n",
       "             0,      0,      0,      0,      0,      0,      0],\n",
       "       [     3,      0,      0,      1,      0,      1,    734,      1,\n",
       "             0,      0,      0,      0,      0,      0,      0],\n",
       "       [     3,      0,      0,      0,      0,      0,      0,   1069,\n",
       "             0,      0,      0,      0,      0,      0,      1],\n",
       "       [     0,      0,      0,      0,      0,      0,      0,      0,\n",
       "             3,      0,      0,      0,      0,      0,      0],\n",
       "       [     6,      0,      0,      0,      0,      0,      0,      0,\n",
       "             0,      0,      0,      0,      0,      0,      0],\n",
       "       [  1282,      0,      0,      0,      2,      0,      0,      0,\n",
       "             0,      0,  10215,      0,      0,      0,      0],\n",
       "       [     4,      0,      0,      0,      0,      0,      0,      0,\n",
       "             0,      0,      0,    595,      0,      0,      0],\n",
       "       [     4,      0,      0,      1,      1,      0,      4,      0,\n",
       "             0,      0,      1,      0,    211,      0,     76],\n",
       "       [     4,      0,      0,      0,      0,      0,      0,      0,\n",
       "             0,      0,      0,      0,      1,      3,      0],\n",
       "       [     2,      0,      0,      0,      0,      0,      0,      0,\n",
       "             0,      0,      0,      0,     62,      0,     41]],\n",
       "      dtype=int64)"
      ]
     },
     "execution_count": 83,
     "metadata": {},
     "output_type": "execute_result"
    }
   ],
   "source": [
    "cf_matrix"
   ]
  },
  {
   "cell_type": "code",
   "execution_count": 84,
   "metadata": {},
   "outputs": [
    {
     "data": {
      "image/png": "[encoded data removed]",
      "text/plain": [
       "<Figure size 720x720 with 2 Axes>"
      ]
     },
     "metadata": {
      "needs_background": "light"
     },
     "output_type": "display_data"
    }
   ],
   "source": [
    "fig, ax = plt.subplots(figsize=(10, 10))\n",
    "plot_confusion_matrix(clf, features_test, labels_test, ax=ax)\n",
    "plt.show()"
   ]
  },
  {
   "cell_type": "code",
   "execution_count": 85,
   "metadata": {},
   "outputs": [
    {
     "name": "stdout",
     "output_type": "stream",
     "text": [
      "              precision    recall  f1-score   support\n",
      "\n",
      "           0       0.99      0.99      0.99    187374\n",
      "           1       0.73      0.73      0.73       400\n",
      "           2       0.99      0.99      0.99     16208\n",
      "           3       0.96      0.96      0.96      1532\n",
      "           4       0.99      1.00      1.00     32450\n",
      "           5       0.98      0.98      0.98       455\n",
      "           6       0.98      0.99      0.99       740\n",
      "           7       1.00      1.00      1.00      1073\n",
      "           8       1.00      1.00      1.00         3\n",
      "           9       0.00      0.00      0.00         6\n",
      "          10       0.90      0.89      0.90     11499\n",
      "          11       0.99      0.99      0.99       599\n",
      "          12       0.76      0.71      0.74       298\n",
      "          13       0.50      0.38      0.43         8\n",
      "          14       0.34      0.39      0.36       105\n",
      "\n",
      "    accuracy                           0.99    252750\n",
      "   macro avg       0.81      0.80      0.80    252750\n",
      "weighted avg       0.99      0.99      0.99    252750\n",
      "\n"
     ]
    }
   ],
   "source": [
    "print(classification_report(labels_test, y_pred, target_names=labels,zero_division=1))"
   ]
  },
  {
   "cell_type": "markdown",
   "metadata": {},
   "source": [
    "# KNN Classifier"
   ]
  },
  {
   "cell_type": "code",
   "execution_count": 86,
   "metadata": {},
   "outputs": [],
   "source": [
    "from sklearn.neighbors import KNeighborsClassifier\n",
    "classifier = KNeighborsClassifier(n_neighbors = 7, metric = 'minkowski', p = 2)\n",
    "classifier.fit(features_train, labels_train)\n",
    "y_pred = classifier.predict(features_test)"
   ]
  },
  {
   "cell_type": "code",
   "execution_count": 87,
   "metadata": {},
   "outputs": [
    {
     "name": "stdout",
     "output_type": "stream",
     "text": [
      "Score of KNN classification model is 0.9874144411473789\n"
     ]
    }
   ],
   "source": [
    "print('Score of KNN classification model is {}'.format(accuracy_score(labels_test, y_pred)))"
   ]
  },
  {
   "cell_type": "code",
   "execution_count": 88,
   "metadata": {},
   "outputs": [],
   "source": [
    "cf_matrix = confusion_matrix(labels_test, y_pred)"
   ]
  },
  {
   "cell_type": "code",
   "execution_count": 89,
   "metadata": {},
   "outputs": [
    {
     "data": {
      "text/plain": [
       "array([[186367,    100,     21,     47,     42,      7,      3,      2,\n",
       "             0,      0,    777,      4,      3,      0,      1],\n",
       "       [   110,    289,      1,      0,      0,      0,      0,      0,\n",
       "             0,      0,      0,      0,      0,      0,      0],\n",
       "       [     3,      0,  15981,      0,    224,      0,      0,      0,\n",
       "             0,      0,      0,      0,      0,      0,      0],\n",
       "       [    44,      0,      0,   1485,      1,      2,      0,      0,\n",
       "             0,      0,      0,      0,      0,      0,      0],\n",
       "       [    20,      0,     69,      1,  32360,      0,      0,      0,\n",
       "             0,      0,      0,      0,      0,      0,      0],\n",
       "       [     4,      0,      0,      0,      1,    449,      0,      0,\n",
       "             0,      0,      1,      0,      0,      0,      0],\n",
       "       [    11,      0,      0,      1,      0,      2,    726,      0,\n",
       "             0,      0,      0,      0,      0,      0,      0],\n",
       "       [     2,      0,      0,      0,      0,      0,      0,   1070,\n",
       "             0,      0,      0,      0,      1,      0,      0],\n",
       "       [     3,      0,      0,      0,      0,      0,      0,      0,\n",
       "             0,      0,      0,      0,      0,      0,      0],\n",
       "       [     6,      0,      0,      0,      0,      0,      0,      0,\n",
       "             0,      0,      0,      0,      0,      0,      0],\n",
       "       [  1522,      0,      0,      0,      3,      0,      0,      0,\n",
       "             0,      0,   9974,      0,      0,      0,      0],\n",
       "       [     7,      0,      0,      0,      0,      0,      0,      0,\n",
       "             0,      0,      0,    592,      0,      0,      0],\n",
       "       [     4,      0,      0,      0,      0,      0,      0,      0,\n",
       "             0,      0,      1,      0,    237,      0,     56],\n",
       "       [     3,      0,      0,      0,      0,      0,      0,      0,\n",
       "             0,      0,      2,      0,      2,      1,      0],\n",
       "       [     1,      0,      0,      0,      0,      1,      0,      0,\n",
       "             0,      0,      0,      0,     65,      0,     38]],\n",
       "      dtype=int64)"
      ]
     },
     "execution_count": 89,
     "metadata": {},
     "output_type": "execute_result"
    }
   ],
   "source": [
    "cf_matrix"
   ]
  },
  {
   "cell_type": "code",
   "execution_count": 90,
   "metadata": {},
   "outputs": [
    {
     "data": {
      "image/png": "[encoded data removed]",
      "text/plain": [
       "<Figure size 720x720 with 2 Axes>"
      ]
     },
     "metadata": {
      "needs_background": "light"
     },
     "output_type": "display_data"
    }
   ],
   "source": [
    "fig, ax = plt.subplots(figsize=(10, 10))\n",
    "plot_confusion_matrix(classifier, features_test, labels_test, ax=ax)\n",
    "plt.show()"
   ]
  },
  {
   "cell_type": "code",
   "execution_count": 91,
   "metadata": {},
   "outputs": [
    {
     "name": "stdout",
     "output_type": "stream",
     "text": [
      "              precision    recall  f1-score   support\n",
      "\n",
      "           0       0.99      0.99      0.99    187374\n",
      "           1       0.74      0.72      0.73       400\n",
      "           2       0.99      0.99      0.99     16208\n",
      "           3       0.97      0.97      0.97      1532\n",
      "           4       0.99      1.00      0.99     32450\n",
      "           5       0.97      0.99      0.98       455\n",
      "           6       1.00      0.98      0.99       740\n",
      "           7       1.00      1.00      1.00      1073\n",
      "           8       1.00      0.00      0.00         3\n",
      "           9       1.00      0.00      0.00         6\n",
      "          10       0.93      0.87      0.90     11499\n",
      "          11       0.99      0.99      0.99       599\n",
      "          12       0.77      0.80      0.78       298\n",
      "          13       1.00      0.12      0.22         8\n",
      "          14       0.40      0.36      0.38       105\n",
      "\n",
      "    accuracy                           0.99    252750\n",
      "   macro avg       0.92      0.72      0.73    252750\n",
      "weighted avg       0.99      0.99      0.99    252750\n",
      "\n"
     ]
    }
   ],
   "source": [
    "print(classification_report(labels_test, y_pred, target_names=labels,zero_division=1))"
   ]
  },
  {
   "cell_type": "markdown",
   "metadata": {},
   "source": [
    "# Logistic Regression"
   ]
  },
  {
   "cell_type": "code",
   "execution_count": 92,
   "metadata": {},
   "outputs": [],
   "source": [
    "from sklearn.linear_model import LogisticRegression"
   ]
  },
  {
   "cell_type": "code",
   "execution_count": 93,
   "metadata": {},
   "outputs": [],
   "source": [
    "log_reg = LogisticRegression(random_state=0, multi_class='multinomial', penalty='none', solver='newton-cg')"
   ]
  },
  {
   "cell_type": "code",
   "execution_count": 94,
   "metadata": {},
   "outputs": [
    {
     "data": {
      "text/plain": [
       "LogisticRegression(multi_class='multinomial', penalty='none', random_state=0,\n",
       "                   solver='newton-cg')"
      ]
     },
     "execution_count": 94,
     "metadata": {},
     "output_type": "execute_result"
    }
   ],
   "source": [
    "log_reg.fit(features_train, labels_train)"
   ]
  },
  {
   "cell_type": "code",
   "execution_count": 95,
   "metadata": {},
   "outputs": [],
   "source": [
    "y_pred = log_reg.predict(features_test)"
   ]
  },
  {
   "cell_type": "code",
   "execution_count": 96,
   "metadata": {},
   "outputs": [
    {
     "name": "stdout",
     "output_type": "stream",
     "text": [
      "Score of Logistic Regression model is 0.9180336300692383\n"
     ]
    }
   ],
   "source": [
    "print('Score of Logistic Regression model is {}'.format(accuracy_score(labels_test, y_pred)))"
   ]
  },
  {
   "cell_type": "code",
   "execution_count": 97,
   "metadata": {},
   "outputs": [],
   "source": [
    "cf_matrix = confusion_matrix(labels_test, y_pred)"
   ]
  },
  {
   "cell_type": "code",
   "execution_count": 98,
   "metadata": {},
   "outputs": [
    {
     "name": "stdout",
     "output_type": "stream",
     "text": [
      "[[184180      0    160    231    140      0      0    100      0      0\n",
      "    2563      0      0      0      0]\n",
      " [   394      0      6      0      0      0      0      0      0      0\n",
      "       0      0      0      0      0]\n",
      " [   148      0  13957      0   2103      0      0      0      0      0\n",
      "       0      0      0      0      0]\n",
      " [   863      0    345      1    323      0      0      0      0      0\n",
      "       0      0      0      0      0]\n",
      " [  1855      0   3124      1  27450      0     20      0      0      0\n",
      "       0      0      0      0      0]\n",
      " [   455      0      0      0      0      0      0      0      0      0\n",
      "       0      0      0      0      0]\n",
      " [   699      0      0      0      0      0     41      0      0      0\n",
      "       0      0      0      0      0]\n",
      " [  1073      0      0      0      0      0      0      0      0      0\n",
      "       0      0      0      0      0]\n",
      " [     1      0      0      0      0      0      0      0      2      0\n",
      "       0      0      0      0      0]\n",
      " [     5      0      0      0      0      0      0      1      0      0\n",
      "       0      0      0      0      0]\n",
      " [  5083      0     10      0      4      0      0      0      0      0\n",
      "    6402      0      0      0      0]\n",
      " [   593      0      0      0      0      0      0      1      0      0\n",
      "       5      0      0      0      0]\n",
      " [   298      0      0      0      0      0      0      0      0      0\n",
      "       0      0      0      0      0]\n",
      " [     8      0      0      0      0      0      0      0      0      0\n",
      "       0      0      0      0      0]\n",
      " [   105      0      0      0      0      0      0      0      0      0\n",
      "       0      0      0      0      0]]\n"
     ]
    }
   ],
   "source": [
    "print(cf_matrix)"
   ]
  },
  {
   "cell_type": "code",
   "execution_count": 99,
   "metadata": {},
   "outputs": [
    {
     "data": {
      "image/png": "[encoded data removed]",
      "text/plain": [
       "<Figure size 720x720 with 2 Axes>"
      ]
     },
     "metadata": {
      "needs_background": "light"
     },
     "output_type": "display_data"
    }
   ],
   "source": [
    "fig, ax = plt.subplots(figsize=(10, 10))\n",
    "plot_confusion_matrix(log_reg, features_test, labels_test, ax=ax)\n",
    "plt.show()"
   ]
  },
  {
   "cell_type": "code",
   "execution_count": 100,
   "metadata": {},
   "outputs": [
    {
     "name": "stdout",
     "output_type": "stream",
     "text": [
      "              precision    recall  f1-score   support\n",
      "\n",
      "           0       0.94      0.98      0.96    187374\n",
      "           1       1.00      0.00      0.00       400\n",
      "           2       0.79      0.86      0.83     16208\n",
      "           3       0.00      0.00      0.00      1532\n",
      "           4       0.91      0.85      0.88     32450\n",
      "           5       1.00      0.00      0.00       455\n",
      "           6       0.67      0.06      0.10       740\n",
      "           7       0.00      0.00      0.00      1073\n",
      "           8       1.00      0.67      0.80         3\n",
      "           9       1.00      0.00      0.00         6\n",
      "          10       0.71      0.56      0.63     11499\n",
      "          11       1.00      0.00      0.00       599\n",
      "          12       1.00      0.00      0.00       298\n",
      "          13       1.00      0.00      0.00         8\n",
      "          14       1.00      0.00      0.00       105\n",
      "\n",
      "    accuracy                           0.92    252750\n",
      "   macro avg       0.80      0.26      0.28    252750\n",
      "weighted avg       0.91      0.92      0.91    252750\n",
      "\n"
     ]
    }
   ],
   "source": [
    "print(classification_report(labels_test, y_pred, target_names=labels,zero_division=1))"
   ]
  }
 ],
 "metadata": {
  "kernelspec": {
   "display_name": "Python 3 (ipykernel)",
   "language": "python",
   "name": "python3"
  },
  "language_info": {
   "codemirror_mode": {
    "name": "ipython",
    "version": 3
   },
   "file_extension": ".py",
   "mimetype": "text/x-python",
   "name": "python",
   "nbconvert_exporter": "python",
   "pygments_lexer": "ipython3",
   "version": "3.9.7"
  },
  "toc": {
   "base_numbering": 1,
   "nav_menu": {},
   "number_sections": true,
   "sideBar": true,
   "skip_h1_title": false,
   "title_cell": "Table of Contents",
   "title_sidebar": "Contents",
   "toc_cell": false,
   "toc_position": {
    "height": "calc(100% - 180px)",
    "left": "10px",
    "top": "150px",
    "width": "375.994px"
   },
   "toc_section_display": true,
   "toc_window_display": true
  },
  "varInspector": {
   "cols": {
    "lenName": 16,
    "lenType": 16,
    "lenVar": 40
   },
   "kernels_config": {
    "python": {
     "delete_cmd_postfix": "",
     "delete_cmd_prefix": "del ",
     "library": "var_list.py",
     "varRefreshCmd": "print(var_dic_list())"
    },
    "r": {
     "delete_cmd_postfix": ") ",
     "delete_cmd_prefix": "rm(",
     "library": "var_list.r",
     "varRefreshCmd": "cat(var_dic_list()) "
    }
   },
   "position": {
    "height": "485.188px",
    "left": "645.125px",
    "right": "20px",
    "top": "174.938px",
    "width": "628.75px"
   },
   "types_to_exclude": [
    "module",
    "function",
    "builtin_function_or_method",
    "instance",
    "_Feature"
   ],
   "window_display": false
  }
 },
 "nbformat": 4,
 "nbformat_minor": 2
}
